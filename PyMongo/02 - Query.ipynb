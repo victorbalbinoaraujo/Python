{
 "cells": [
  {
   "cell_type": "code",
   "execution_count": null,
   "source": [
    "from pymongo import MongoClient\r\n",
    "\r\n",
    "client = MongoClient()\r\n",
    "\r\n",
    "db = client[\"restaurant\"]\r\n",
    "\r\n",
    "db.create_collection(\"food\")\r\n",
    "db.create_collection(\"employees\")"
   ],
   "outputs": [],
   "metadata": {}
  },
  {
   "cell_type": "code",
   "execution_count": null,
   "source": [
    "food_collection = db.get_collection(\"food\")\r\n",
    "employees_collection = db.get_collection(\"employees\") "
   ],
   "outputs": [],
   "metadata": {}
  },
  {
   "cell_type": "code",
   "execution_count": null,
   "source": [
    "def order(number_id, name, price, ingredients):\r\n",
    "    return {\r\n",
    "        \"_id\" : number_id,\r\n",
    "        \"name\" : name,\r\n",
    "        \"price\" : price,\r\n",
    "        \"ingredients\" : ingredients\r\n",
    "    }"
   ],
   "outputs": [],
   "metadata": {}
  },
  {
   "cell_type": "code",
   "execution_count": null,
   "source": [
    "def employee(number_id, name, salary, job):\r\n",
    "    return {\r\n",
    "        \"_id\" : number_id,\r\n",
    "        \"name\" : name,\r\n",
    "        \"salary\" : salary,\r\n",
    "        \"job\" : job\r\n",
    "    }"
   ],
   "outputs": [],
   "metadata": {}
  },
  {
   "cell_type": "code",
   "execution_count": null,
   "source": [
    "# All names, values, ingredients are fictional.\r\n",
    "\r\n",
    "food_collection.insert_many([\r\n",
    "    order(0, \"Beef Taco\", 80.45, [\"pepper\", \"oil\", \"garlic\", \"onion\", \"salt\", \"rice\", \"egg\", \"cheese\", \"tortilla chips\", \"beef\"]),\r\n",
    "    order(1, \"Steak\", 94.50, [\"onion\", \"egg\", \"ketchup\", \"beef\", \"black pepper\", \"butter\", \"mushroom\"]),\r\n",
    "    order(2, \"Hamburguer\", 71.30, [\"oil\", \"onion\", \"pepper\", \"garlic\", \"oregano\", \"beef\", \"hamburger bun\", \"tomato paste\", \"buttler\"])\r\n",
    "])\r\n",
    "\r\n",
    "employees_collection.insert_many([\r\n",
    "    employee(0, \"John\", 1800, \"fast food cook\"),\r\n",
    "    employee(1, \"Rebeca\", 3400, \"kitchen manager\"),\r\n",
    "    employee(2, \"Louis\", 2700, \"prep cook\")\r\n",
    "])"
   ],
   "outputs": [],
   "metadata": {}
  },
  {
   "cell_type": "code",
   "execution_count": null,
   "source": [
    "results = food_collection.find({\r\n",
    "    \"price\" : {\"$gt\" : 72.00}\r\n",
    "})\r\n",
    "\r\n",
    "for r in results:\r\n",
    "    print(f\"{r['name']} : R${r['price']}\")"
   ],
   "outputs": [],
   "metadata": {}
  },
  {
   "cell_type": "code",
   "execution_count": null,
   "source": [
    "results = food_collection.find({\r\n",
    "    \"ingredients\" : {\"$in\" : [\"pepper\", \"egg\"]}\r\n",
    "})\r\n",
    "\r\n",
    "for r in results:\r\n",
    "    print(f\"{r['name']}\")"
   ],
   "outputs": [],
   "metadata": {}
  },
  {
   "cell_type": "code",
   "execution_count": null,
   "source": [
    "results = employees_collection.find({\r\n",
    "    \"job\" : {\"$eq\": \"fast food cook\"}\r\n",
    "})\r\n",
    "\r\n",
    "for r in results:\r\n",
    "    print(f\"{r['name']}\")"
   ],
   "outputs": [],
   "metadata": {}
  },
  {
   "cell_type": "code",
   "execution_count": 23,
   "source": [
    "results = employees_collection.find({\r\n",
    "    \"salary\" : {\"$lt\" : 3000}\r\n",
    "})\r\n",
    "\r\n",
    "for r in results:\r\n",
    "    print(f\"Name: {r['name']}. Salary: R$ {r['salary']}.00\")"
   ],
   "outputs": [
    {
     "output_type": "stream",
     "name": "stdout",
     "text": [
      "Name: John. Salary: R$ 1800.00\n",
      "Name: Louis. Salary: R$ 2700.00\n"
     ]
    }
   ],
   "metadata": {}
  }
 ],
 "metadata": {
  "orig_nbformat": 4,
  "language_info": {
   "name": "python",
   "version": "3.9.6",
   "mimetype": "text/x-python",
   "codemirror_mode": {
    "name": "ipython",
    "version": 3
   },
   "pygments_lexer": "ipython3",
   "nbconvert_exporter": "python",
   "file_extension": ".py"
  },
  "kernelspec": {
   "name": "python3",
   "display_name": "Python 3.9.6 64-bit"
  },
  "interpreter": {
   "hash": "b2a6f09527545e370935e82da67d9200a6ba8ae5f29d2a729dc4524a539d679f"
  }
 },
 "nbformat": 4,
 "nbformat_minor": 2
}