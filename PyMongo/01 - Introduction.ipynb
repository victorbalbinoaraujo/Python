{
 "cells": [
  {
   "cell_type": "code",
   "execution_count": null,
   "source": [
    "from pymongo import MongoClient"
   ],
   "outputs": [],
   "metadata": {}
  },
  {
   "cell_type": "code",
   "execution_count": null,
   "source": [
    "# Basic Setup\r\n",
    "client = MongoClient()\r\n",
    "db = client[\"db_person\"]\r\n",
    "collection = db[\"person\"]"
   ],
   "outputs": [],
   "metadata": {}
  },
  {
   "cell_type": "code",
   "execution_count": null,
   "source": [
    "def person(number_id, name, age, job, traits):\r\n",
    "    return {\r\n",
    "        \"_id\" : number_id,\r\n",
    "        \"name\" : name,\r\n",
    "        \"age\" : age,\r\n",
    "        \"job\" : job,\r\n",
    "        \"traits\" : traits\r\n",
    "    }"
   ],
   "outputs": [],
   "metadata": {}
  },
  {
   "cell_type": "code",
   "execution_count": null,
   "source": [
    "collection.insert_one(person(0, \"Alex\", 35, \"unemployed\", [\"loyal\", \"humble\", \"patient\"]))"
   ],
   "outputs": [],
   "metadata": {}
  },
  {
   "cell_type": "code",
   "execution_count": null,
   "source": [
    "collection.insert_one(person(1, \"Bruna\", 23, \"engineer\", [\"resilient\", \"persistent\", \"honest\", \"flexible\"]))"
   ],
   "outputs": [],
   "metadata": {}
  },
  {
   "cell_type": "code",
   "execution_count": null,
   "source": [
    "collection.insert_many([\r\n",
    "    person(2, \"Carlos\", 42, \"plumber\", [\"creative\", \"disciplined\", \"conscientious\"]),\r\n",
    "    person(3, \"Diane\", 26, \"teacher\", [\"compassionate\", \"creative\", \"loyal\"])\r\n",
    "])"
   ],
   "outputs": [],
   "metadata": {}
  },
  {
   "cell_type": "code",
   "execution_count": null,
   "source": [
    "results = collection.find({\"traits\" : \"loyal\"})\r\n",
    "\r\n",
    "for find_person in results:\r\n",
    "    print(find_person[\"name\"]) # Alex \\n Diane"
   ],
   "outputs": [],
   "metadata": {}
  },
  {
   "cell_type": "code",
   "execution_count": null,
   "source": [
    "results = collection.find_one({\"_id\" : 2})\r\n",
    "print(results[\"name\"])"
   ],
   "outputs": [],
   "metadata": {}
  },
  {
   "cell_type": "code",
   "execution_count": null,
   "source": [
    "collection.insert_one(person(None, None, None, None, None))\r\n",
    "collection.delete_one({\"_id\": None})"
   ],
   "outputs": [],
   "metadata": {}
  },
  {
   "cell_type": "code",
   "execution_count": null,
   "source": [
    "collection.update_one({\"_id\" : 3}, {\"$set\" : {\"name\" : \"Diana\"}})"
   ],
   "outputs": [],
   "metadata": {}
  },
  {
   "cell_type": "code",
   "execution_count": null,
   "source": [
    "collection.update_one({\"_id\" : 2}, {\"$inc\": {\"age\" : 1}})"
   ],
   "outputs": [],
   "metadata": {}
  },
  {
   "cell_type": "code",
   "execution_count": 32,
   "source": [
    "doc_count = collection.count_documents({})\r\n",
    "doc_count"
   ],
   "outputs": [
    {
     "output_type": "execute_result",
     "data": {
      "text/plain": [
       "4"
      ]
     },
     "metadata": {},
     "execution_count": 32
    }
   ],
   "metadata": {}
  }
 ],
 "metadata": {
  "orig_nbformat": 4,
  "language_info": {
   "name": "python",
   "version": "3.9.6",
   "mimetype": "text/x-python",
   "codemirror_mode": {
    "name": "ipython",
    "version": 3
   },
   "pygments_lexer": "ipython3",
   "nbconvert_exporter": "python",
   "file_extension": ".py"
  },
  "kernelspec": {
   "name": "python3",
   "display_name": "Python 3.9.6 64-bit"
  },
  "interpreter": {
   "hash": "b2a6f09527545e370935e82da67d9200a6ba8ae5f29d2a729dc4524a539d679f"
  }
 },
 "nbformat": 4,
 "nbformat_minor": 2
}