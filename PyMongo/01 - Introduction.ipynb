{
 "cells": [
  {
   "cell_type": "code",
   "execution_count": null,
   "metadata": {},
   "outputs": [],
   "source": [
    "from pymongo import MongoClient"
   ]
  },
  {
   "cell_type": "code",
   "execution_count": null,
   "metadata": {},
   "outputs": [],
   "source": [
    "# Basic Setup\n",
    "client = MongoClient()\n",
    "db = client[\"db_person\"]\n",
    "collection = db[\"person\"]"
   ]
  },
  {
   "cell_type": "code",
   "execution_count": null,
   "metadata": {},
   "outputs": [],
   "source": [
    "def person(number_id, name, age, job, traits):\n",
    "    return {\n",
    "        \"_id\" : number_id,\n",
    "        \"name\" : name,\n",
    "        \"age\" : age,\n",
    "        \"job\" : job,\n",
    "        \"traits\" : traits\n",
    "    }"
   ]
  },
  {
   "cell_type": "code",
   "execution_count": null,
   "metadata": {},
   "outputs": [],
   "source": [
    "collection.insert_one(person(0, \"Alex\", 35, \"unemployed\", [\"loyal\", \"humble\", \"patient\"]))"
   ]
  },
  {
   "cell_type": "code",
   "execution_count": null,
   "metadata": {},
   "outputs": [],
   "source": [
    "collection.insert_one(person(1, \"Bruna\", 23, \"engineer\", [\"resilient\", \"persistent\", \"honest\", \"flexible\"]))"
   ]
  },
  {
   "cell_type": "code",
   "execution_count": null,
   "metadata": {},
   "outputs": [],
   "source": [
    "collection.insert_many([\n",
    "    person(2, \"Carlos\", 42, \"plumber\", [\"creative\", \"disciplined\", \"conscientious\"]),\n",
    "    person(3, \"Diane\", 26, \"teacher\", [\"compassionate\", \"creative\", \"loyal\"])\n",
    "])"
   ]
  },
  {
   "cell_type": "code",
   "execution_count": null,
   "metadata": {},
   "outputs": [],
   "source": [
    "results = collection.find({\"traits\" : \"loyal\"})\n",
    "\n",
    "for find_person in results:\n",
    "    print(find_person[\"name\"]) # Alex \\n Diane"
   ]
  },
  {
   "cell_type": "code",
   "execution_count": null,
   "metadata": {},
   "outputs": [],
   "source": [
    "results = collection.find_one({\"_id\" : 2})\n",
    "print(results[\"name\"])"
   ]
  },
  {
   "cell_type": "code",
   "execution_count": null,
   "metadata": {},
   "outputs": [],
   "source": [
    "collection.insert_one(person(None, None, None, None, None))\n",
    "collection.delete_one({\"_id\": None})"
   ]
  },
  {
   "cell_type": "code",
   "execution_count": null,
   "metadata": {},
   "outputs": [],
   "source": [
    "collection.update_one({\"_id\" : 3}, {\"$set\" : {\"name\" : \"Diana\"}})"
   ]
  },
  {
   "cell_type": "code",
   "execution_count": null,
   "metadata": {},
   "outputs": [],
   "source": [
    "collection.update_one({\"_id\" : 2}, {\"$inc\": {\"age\" : 1}})"
   ]
  },
  {
   "cell_type": "code",
   "execution_count": 32,
   "metadata": {},
   "outputs": [
    {
     "data": {
      "text/plain": [
       "4"
      ]
     },
     "execution_count": 32,
     "metadata": {},
     "output_type": "execute_result"
    }
   ],
   "source": [
    "doc_count = collection.count_documents({})\n",
    "doc_count"
   ]
  }
 ],
 "metadata": {
  "interpreter": {
   "hash": "b2a6f09527545e370935e82da67d9200a6ba8ae5f29d2a729dc4524a539d679f"
  },
  "kernelspec": {
   "display_name": "Python 3",
   "language": "python",
   "name": "python3"
  },
  "language_info": {
   "codemirror_mode": {
    "name": "ipython",
    "version": 3
   },
   "file_extension": ".py",
   "mimetype": "text/x-python",
   "name": "python",
   "nbconvert_exporter": "python",
   "pygments_lexer": "ipython3",
   "version": "3.8.8"
  }
 },
 "nbformat": 4,
 "nbformat_minor": 2
}
