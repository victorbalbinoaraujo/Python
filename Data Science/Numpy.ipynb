{
 "cells": [
  {
   "cell_type": "markdown",
   "source": [
    "# Basic"
   ],
   "metadata": {}
  },
  {
   "cell_type": "code",
   "execution_count": null,
   "source": [
    "import numpy as np\r\n",
    "\r\n",
    "a = np.array([1, 2, 3, 4])\r\n",
    "b = np.array((1, 2, 3, 4)) \r\n",
    "\r\n",
    "print(a) # [1 2 3 4] np.ndarray\r\n",
    "print(b) # [1 2 3 4] np.ndarray"
   ],
   "outputs": [],
   "metadata": {}
  },
  {
   "cell_type": "code",
   "execution_count": null,
   "source": [
    "c = np.array((1, 3, 4, 6, 6), dtype='i') # Integer\r\n",
    "d = np.array((4, 4, 2, 5, 6), dtype='f') # Float\r\n",
    "\r\n",
    "print(c.dtype) # int32\r\n",
    "print(d.dtype) # float32"
   ],
   "outputs": [],
   "metadata": {}
  },
  {
   "cell_type": "markdown",
   "source": [
    "# Dimensions"
   ],
   "metadata": {}
  },
  {
   "cell_type": "code",
   "execution_count": null,
   "source": [
    "a = np.array([[1, 2, 3, 4], [5, 6, 7, 8]])\r\n",
    "print(a.ndim) # 2\r\n",
    "\r\n",
    "print(a.shape[0]) # 2 conjuntos: [1, 2, 3, 4] e [5, 6, 7, 8]\r\n",
    "print(a.shape[1]) # 4 números no conjunto [1, 2, 3, 4]"
   ],
   "outputs": [],
   "metadata": {}
  },
  {
   "cell_type": "code",
   "execution_count": null,
   "source": [
    "b = np.array([[1, 3, 5], [1, 5, 2, 7]]) \r\n",
    "b # Erro. Precisa ter o mesmo número de elementos."
   ],
   "outputs": [],
   "metadata": {}
  },
  {
   "cell_type": "code",
   "execution_count": null,
   "source": [
    "c = np.array(\r\n",
    "    [[[1, 2, 3],\r\n",
    "    [4, 5, 6],\r\n",
    "    [7, 8, 9]],\r\n",
    "    [[-1, -2, -3],\r\n",
    "    [-4, -5, -6],\r\n",
    "    [-7, -8, -9]]]\r\n",
    ")\r\n",
    "\r\n",
    "c.ndim # 3\r\n",
    "\r\n",
    "\"\"\"\r\n",
    "Acesso\r\n",
    "Positivos  Negativos\r\n",
    "[0, 1] -> Rosa\r\n",
    "\r\n",
    "Conjunto\r\n",
    "[0, 1, 2] -> Verde\r\n",
    "\r\n",
    "Elementos\r\n",
    "[x, y, z] -> Dentro do verde\r\n",
    "\"\"\"\r\n",
    "\r\n",
    "c[1, 1, 1] # -5\r\n",
    "c[0, 2, 1] # 8\r\n",
    "\r\n",
    "c.shape # 2, 3, 3\r\n",
    "c.size # Total de elementos = 2 * 3 * 3 = 18\r\n",
    "\r\n",
    "\"\"\"\r\n",
    "2 -> P N\r\n",
    "3 -> 0, 1, 2\r\n",
    "3 -> x, y, z\r\n",
    "\"\"\"\r\n"
   ],
   "outputs": [],
   "metadata": {}
  },
  {
   "cell_type": "code",
   "execution_count": null,
   "source": [
    "a = np.array([1])\r\n",
    "a.ndim # 1\r\n",
    "\r\n",
    "b = np.array(1)\r\n",
    "b.ndim # 0"
   ],
   "outputs": [],
   "metadata": {}
  },
  {
   "cell_type": "markdown",
   "source": [
    "# Arange, Reshape, Random"
   ],
   "metadata": {}
  },
  {
   "cell_type": "code",
   "execution_count": null,
   "source": [
    "# Arange\r\n",
    "# for i in range()\r\n",
    "\r\n",
    "a = np.arange(100) \r\n",
    "a # 0, 1, 2, ..., 99\r\n",
    "\r\n",
    "a = np.arange(20, 100)\r\n",
    "a # 20, 21, 22, ..., 99\r\n",
    "\r\n",
    "a = np.arange(1, 10, 3)\r\n",
    "a # 1, 4, 7"
   ],
   "outputs": [],
   "metadata": {}
  },
  {
   "cell_type": "code",
   "execution_count": null,
   "source": [
    "# Random\r\n",
    "\r\n",
    "\"\"\"\r\n",
    "Permuta randomicamente números de 0 a 9\r\n",
    "Cada execução, um resultado diferente\r\n",
    "\"\"\"\r\n",
    "a = np.random.permutation(np.arange(10))\r\n",
    "a # Exemplo: 2, 8, 9, 1, 7, 3, 5, 6, 0, 4\r\n",
    "\r\n",
    "np.random.randint(0, 100) # Número inteiro aleatório entre 0 e 100"
   ],
   "outputs": [],
   "metadata": {}
  },
  {
   "cell_type": "code",
   "execution_count": null,
   "source": [
    "import matplotlib.pyplot as plt\r\n",
    "\r\n",
    "# Array com 1000 elementos aleatórios entre 0 e 1\r\n",
    "a = np.random.rand(1000)\r\n",
    "plt.hist(a)"
   ],
   "outputs": [],
   "metadata": {}
  },
  {
   "cell_type": "code",
   "execution_count": null,
   "source": [
    "b = np.random.randn(100000)\r\n",
    "plt.hist(b, bins=200)"
   ],
   "outputs": [],
   "metadata": {}
  },
  {
   "cell_type": "code",
   "execution_count": null,
   "source": [
    "c = np.random.rand(2, 3)\r\n",
    "c\r\n",
    "c.ndim"
   ],
   "outputs": [],
   "metadata": {}
  },
  {
   "cell_type": "code",
   "execution_count": null,
   "source": [
    "c = np.random.rand(2, 3, 4, 2)\r\n",
    "c\r\n",
    "c.ndim"
   ],
   "outputs": [],
   "metadata": {}
  },
  {
   "cell_type": "code",
   "execution_count": null,
   "source": [
    "# Reshape\r\n",
    "\r\n",
    "d = np.arange(100)\r\n",
    "d # 1 array -> 0 ... 99\r\n",
    "\r\n",
    "d = d.reshape(4, 25)\r\n",
    "d # 4 arrays\r\n",
    "\"\"\"\r\n",
    "0 ... 24\r\n",
    "25 ... 49\r\n",
    "50 ... 74\r\n",
    "74 ... 99\r\n",
    "\"\"\"\r\n",
    "\r\n",
    "d = d.reshape(4, 5, 5)\r\n",
    "d # 4 arrays com 5 conjuntos de 5 elementos\r\n",
    "\"\"\"\r\n",
    "[\r\n",
    "    [\r\n",
    "        [0, 1, 2, 3, 4], [5, 6, 7, 8, 9], [10, 11, 12, 13, 14], [15, 16, 17, 18, 19], [20, 21, 22, 23, 24]\r\n",
    "    ],\r\n",
    "    [\r\n",
    "        [25, 26, 27, 28, 29], ...\r\n",
    "    ],\r\n",
    "    [\r\n",
    "        [], [], [], [], []\r\n",
    "    ],\r\n",
    "    [\r\n",
    "        [], [], [], [], []\r\n",
    "    ]\r\n",
    "]\r\n",
    "\"\"\""
   ],
   "outputs": [],
   "metadata": {}
  },
  {
   "cell_type": "code",
   "execution_count": null,
   "source": [
    "a = np.zeros(2)\r\n",
    "a # 0, 0\r\n",
    "\r\n",
    "b = np.ones(4)\r\n",
    "b # 1, 1, 1, 1"
   ],
   "outputs": [],
   "metadata": {}
  },
  {
   "cell_type": "markdown",
   "source": [
    "# Slicing"
   ],
   "metadata": {}
  },
  {
   "cell_type": "code",
   "execution_count": null,
   "source": [
    "# Não é cópia\r\n",
    "\r\n",
    "a = np.arange(1, 101)\r\n",
    "b = a[25:55]\r\n",
    "b[0] = 31\r\n",
    "a # O elemento 0 em b (26) foi alterado para 31, o mesmo acontece com a, onde localizava o 26, agora é 31"
   ],
   "outputs": [],
   "metadata": {}
  },
  {
   "cell_type": "code",
   "execution_count": null,
   "source": [
    "# Cópia\r\n",
    "\r\n",
    "a = np.arange(1, 101)\r\n",
    "b = a[25:55].copy()\r\n",
    "b[0] = 31\r\n",
    "a # O elemento 0 em b (26) foi alterado para 31, o que não acontece com a, por b ser uma cópia. Onde localizava 26 em a, permanece 26"
   ],
   "outputs": [],
   "metadata": {}
  },
  {
   "cell_type": "code",
   "execution_count": null,
   "source": [
    "a[::5] # 5 em 5 a partir de 1 ... 96\r\n",
    "a[::-5] # -5 em -5 a partir de 100 ... 5"
   ],
   "outputs": [],
   "metadata": {}
  },
  {
   "cell_type": "code",
   "execution_count": null,
   "source": [
    "a = np.round(10 * np.random.rand(5,5))\r\n",
    "print(a)\r\n",
    "a[2, 2] # Meio \r\n",
    "\r\n",
    "a[2,:] # Terceira linha inteira\r\n",
    "a[:,3] # Quarta coluna inteira\r\n",
    "\r\n",
    "a[1:4, 1:4] # Todos valores que não estão na borda"
   ],
   "outputs": [],
   "metadata": {}
  },
  {
   "cell_type": "markdown",
   "source": [
    "# Sorting"
   ],
   "metadata": {}
  },
  {
   "cell_type": "code",
   "execution_count": null,
   "source": [
    "a = np.round(10 * np.random.rand(5,5))\r\n",
    "print(f\"\"\"Array original\r\n",
    "{a}\r\n",
    "      \"\"\")\r\n",
    "\r\n",
    "# Ordenar cada coluna individualmente\r\n",
    "a.sort(axis=0)\r\n",
    "print(f\"\"\"Ordenamento - Coluna\r\n",
    "{a}\r\n",
    "      \"\"\")\r\n",
    "# Ordernar as linhas\r\n",
    "a.sort(axis=1)\r\n",
    "print(f\"\"\"Ordenamento - Linha\r\n",
    "{a}\r\n",
    "      \"\"\")\r\n"
   ],
   "outputs": [],
   "metadata": {}
  },
  {
   "cell_type": "markdown",
   "source": [
    "# Indexing"
   ],
   "metadata": {}
  },
  {
   "cell_type": "code",
   "execution_count": null,
   "source": [
    "# Index\r\n",
    "\r\n",
    "# Alterando um índice aleatório com um valor aleatório\r\n",
    "a = np.arange(100)\r\n",
    "random_number_idx, random_number_value = np.random.randint(a.size), (np.random.randint(a.size) + 100)\r\n",
    "a[random_number_idx] = random_number_value\r\n",
    "\r\n",
    "\"\"\"\r\n",
    "Bônus\r\n",
    "b = True para o valor igual ao RNV\r\n",
    "Todos valores = 0, exceto o RNV\r\n",
    "b = (a == random_number_value) * np.arange(a.size)\r\n",
    "\"\"\"\r\n",
    "\r\n",
    "# Encontrando o index de RNV\r\n",
    "idx = np.argwhere(a == random_number_value)[0][0]\r\n",
    "print(a)\r\n",
    "print(idx)\r\n",
    "\r\n",
    "# Alterando para o valor na ordem\r\n",
    "a[idx] = idx\r\n",
    "a"
   ],
   "outputs": [],
   "metadata": {}
  },
  {
   "cell_type": "code",
   "execution_count": null,
   "source": [
    "a = np.arange(100)\r\n",
    "b = a[[3, 5, 7]] # Cópia\r\n",
    "\r\n",
    "b[0] = 1\r\n",
    "\r\n",
    "print(b)\r\n",
    "print(a) # A não é alterado"
   ],
   "outputs": [],
   "metadata": {}
  },
  {
   "cell_type": "code",
   "execution_count": 202,
   "source": [
    "\"\"\"\r\n",
    "& -> para arrays\r\n",
    "| -> para arrays\r\n",
    "~ -> para arrays\r\n",
    "\"\"\"\r\n",
    "\r\n",
    "b = a[a < 40] # B = todos elementos menores que 40\r\n",
    "b # 0 ... 39\r\n",
    "\r\n",
    "b = a[(a < 40) & (a > 20)] # B = todos elementos menos que 40 e maiores que 20\r\n",
    "b # 21 ... 39\r\n"
   ],
   "outputs": [
    {
     "output_type": "execute_result",
     "data": {
      "text/plain": [
       "array([21, 22, 23, 24, 25, 26, 27, 28, 29, 30, 31, 32, 33, 34, 35, 36, 37,\n",
       "       38, 39])"
      ]
     },
     "metadata": {},
     "execution_count": 202
    }
   ],
   "metadata": {}
  },
  {
   "cell_type": "markdown",
   "source": [
    "# Broadcasting"
   ],
   "metadata": {}
  },
  {
   "cell_type": "code",
   "execution_count": 211,
   "source": [
    "a = np.array([[1, 2], [3, 4]])\r\n",
    "a += 5 # Todos elementos são somados com 5\r\n",
    "\"\"\"\r\n",
    "[[6, 7],\r\n",
    "[8, 9]]\r\n",
    "\"\"\"\r\n",
    "a \r\n",
    "\r\n",
    "b = np.array([[2,3], [5, 9]])\r\n",
    "b += np.array([1, 3]) # 2 e 5 são somados com 1, 3 e 9 são somados com 12\r\n",
    "\"\"\"\r\n",
    "[[3, 6],\r\n",
    "[6, 12]]\r\n",
    "\"\"\"\r\n",
    "b\r\n",
    "\r\n",
    "c = np.array([[1, 4], [2, 5]])\r\n",
    "c *= np.array(3) # Todos elementos são multiplicados por 3\r\n",
    "\"\"\"\r\n",
    "[[3, 12],\r\n",
    "[6, 15]]\r\n",
    "\"\"\"\r\n",
    "c\r\n",
    "\r\n",
    "# E assim por diante...\r\n"
   ],
   "outputs": [
    {
     "output_type": "execute_result",
     "data": {
      "text/plain": [
       "array([[ 3, 12],\n",
       "       [ 6, 15]])"
      ]
     },
     "metadata": {},
     "execution_count": 211
    }
   ],
   "metadata": {}
  },
  {
   "cell_type": "code",
   "execution_count": null,
   "source": [],
   "outputs": [],
   "metadata": {}
  }
 ],
 "metadata": {
  "orig_nbformat": 4,
  "language_info": {
   "name": "python",
   "version": "3.9.6",
   "mimetype": "text/x-python",
   "codemirror_mode": {
    "name": "ipython",
    "version": 3
   },
   "pygments_lexer": "ipython3",
   "nbconvert_exporter": "python",
   "file_extension": ".py"
  },
  "kernelspec": {
   "name": "python3",
   "display_name": "Python 3.9.6 64-bit"
  },
  "interpreter": {
   "hash": "b2a6f09527545e370935e82da67d9200a6ba8ae5f29d2a729dc4524a539d679f"
  }
 },
 "nbformat": 4,
 "nbformat_minor": 2
}