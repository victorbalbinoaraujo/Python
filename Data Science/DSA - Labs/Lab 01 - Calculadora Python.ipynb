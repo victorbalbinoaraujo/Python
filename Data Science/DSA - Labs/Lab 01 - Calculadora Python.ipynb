{
 "cells": [
  {
   "cell_type": "code",
   "execution_count": null,
   "source": [
    "def menu():\r\n",
    "\r\n",
    "    print(20 * \"*\", \"Python Calculator\", 20 * \"*\")\r\n",
    "    print(\"\"\"\r\n",
    "    Selecione o número da operação desejada:\r\n",
    "\r\n",
    "    1 - Soma\r\n",
    "    2 - Subtração\r\n",
    "    3 - Multiplicação\r\n",
    "    4 - Divisão\r\n",
    "\r\n",
    "     \"\"\")\r\n",
    "    \r\n",
    "def operations(op, x, y): return {\r\n",
    "    1 : lambda: x + y,\r\n",
    "    2 : lambda: x - y,\r\n",
    "    3 : lambda: x * y,\r\n",
    "    4 : lambda: x / y,\r\n",
    "}.get(op, lambda:\"Opção inválida\") ()\r\n",
    "\r\n",
    "symbols = {\r\n",
    "    1 : '+',\r\n",
    "    2 : '-',\r\n",
    "    3 : '*',\r\n",
    "    4 : '/'\r\n",
    "}"
   ],
   "outputs": [],
   "metadata": {}
  },
  {
   "cell_type": "code",
   "execution_count": null,
   "source": [
    "menu()\r\n",
    "\r\n",
    "op = int(input(\"Digite sua opção (1/2/3/4): \"))\r\n",
    "\r\n",
    "x = float(input(\"Digite o primeiro número: \"))\r\n",
    "y = float(input(\"Digite o segundo número: \"))\r\n",
    "\r\n",
    "print(f\"{x} {symbols[op]} {y} = {operations(op, x, y)}\")"
   ],
   "outputs": [],
   "metadata": {}
  }
 ],
 "metadata": {
  "orig_nbformat": 4,
  "language_info": {
   "name": "python"
  }
 },
 "nbformat": 4,
 "nbformat_minor": 2
}