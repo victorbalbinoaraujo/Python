{
 "cells": [
  {
   "cell_type": "markdown",
   "source": [
    "# Álgebra Linear - Capítulo 4"
   ],
   "metadata": {}
  },
  {
   "cell_type": "markdown",
   "source": [
    "### Ramo da matemática que lida com espaços vetoriais. "
   ],
   "metadata": {}
  },
  {
   "cell_type": "markdown",
   "source": [
    "## Vetores"
   ],
   "metadata": {}
  },
  {
   "cell_type": "markdown",
   "source": [
    "### Vetores são objetos que podem ser somados juntos e ser multiplicados pelos escalares, formando novos vetores.\n",
    "### Vetores são pontos em algum espaço de dimensão finita."
   ],
   "metadata": {}
  },
  {
   "cell_type": "code",
   "execution_count": null,
   "source": [
    "\"\"\"\r\n",
    "Representar vetores como uma lista de números.\r\n",
    "Uma lista de três números corresponde a um vetor em um espaço tridimensional.\r\n",
    "\"\"\"\r\n",
    "\r\n",
    "hgt_wt_age = [172, # Em cm\r\n",
    "              75,  # Em kg\r\n",
    "              37]  # Em anos"
   ],
   "outputs": [],
   "metadata": {}
  },
  {
   "cell_type": "markdown",
   "source": [
    "### Aritmética de Vetores"
   ],
   "metadata": {}
  },
  {
   "cell_type": "code",
   "execution_count": null,
   "source": [
    "import numpy as np\r\n",
    "from functools import reduce\r\n",
    "\r\n",
    "# Provavelmente existe uma forma melhor de fazer essas atribuições.\r\n",
    "vector_1 = np.random.randint(np.arange(1, 9))\r\n",
    "vector_2 = np.random.randint(np.arange(1, 9))\r\n",
    "vector_3 = np.random.randint(np.arange(1, 9))\r\n",
    "vector_4 = np.random.randint(np.arange(1, 9))"
   ],
   "outputs": [],
   "metadata": {}
  },
  {
   "cell_type": "code",
   "execution_count": null,
   "source": [
    "\"\"\"\r\n",
    "Dado dois vetores v e w\r\n",
    "Somar os elementos correspondentes de cada\r\n",
    "v[0] + w[0], v[1] + v[1], ..., v[n] + w[n]\r\n",
    "Criando um novo vetor.\r\n",
    "\"\"\"\r\n",
    "def vector_add(v, w):\r\n",
    "    return [v_i + w_i for v_i, w_i in zip(v, w)]\r\n",
    "\r\n",
    "print(vector_1)\r\n",
    "print(vector_2)\r\n",
    "\r\n",
    "vector_add(vector_1, vector_2)"
   ],
   "outputs": [],
   "metadata": {}
  },
  {
   "cell_type": "code",
   "execution_count": null,
   "source": [
    "\"\"\"\r\n",
    "Dado dois vetores v e w\r\n",
    "Subtrair os elementos correspondentes de cada\r\n",
    "v[0] - w[0], v[1] - v[1], ..., v[n] - w[n]\r\n",
    "Criando um novo vetor.\r\n",
    "\"\"\"\r\n",
    "\r\n",
    "def vector_sub(v, w):\r\n",
    "    return [v_i - w_i for v_i, w_i in zip(v, w)]\r\n",
    "\r\n",
    "print(vector_1)\r\n",
    "print(vector_2)\r\n",
    "\r\n",
    "vector_sub(vector_1, vector_2)"
   ],
   "outputs": [],
   "metadata": {}
  },
  {
   "cell_type": "code",
   "execution_count": null,
   "source": [
    "\"\"\"\r\n",
    "Dado dois vetores v e w\r\n",
    "Multiplicar os elementos correspondentes de cada\r\n",
    "v[0] * w[0], v[1] * v[1], ..., v[n] * w[n]\r\n",
    "Criando um novo vetor.\r\n",
    "\"\"\"\r\n",
    "\r\n",
    "def vector_mul(v, w):\r\n",
    "    return [v_i * w_i for v_i, w_i in zip(v, w)]\r\n",
    "\r\n",
    "print(vector_1)\r\n",
    "print(vector_2)\r\n",
    "\r\n",
    "vector_mul(vector_1, vector_2)"
   ],
   "outputs": [],
   "metadata": {}
  },
  {
   "cell_type": "code",
   "execution_count": null,
   "source": [
    "\"\"\"\r\n",
    "Somar uma lista de vetores\r\n",
    "Criar novo vetor\r\n",
    "cujo primeiro elemento seja a soma de todos os primeiros elementos\r\n",
    "cujo segundo elemento seja a soma de todos os segundos elementos\r\n",
    "e assim por diante.\r\n",
    "\"\"\"\r\n",
    "\r\n",
    "def vectors_sum(vectors):\r\n",
    "    return reduce(vector_add, vectors)\r\n",
    "\r\n",
    "lista_vetores = [vector_1, vector_2, vector_3, vector_4]\r\n",
    "\r\n",
    "print(lista_vetores)\r\n",
    "\r\n",
    "vectors_sum(lista_vetores)"
   ],
   "outputs": [],
   "metadata": {}
  },
  {
   "cell_type": "code",
   "execution_count": null,
   "source": [
    "\"\"\"\r\n",
    "Multiplicar um vetor por um escalar\r\n",
    "Isto é, multiplicar cada elemento de um vetor\r\n",
    "por um número x.\r\n",
    "\"\"\"\r\n",
    "\r\n",
    "def scalar_multiply(v, escalar):\r\n",
    "    return [escalar * v_i for v_i in v]\r\n",
    "\r\n",
    "print(vector_1)\r\n",
    "\r\n",
    "escalar = np.random.randint(1, 100)\r\n",
    "print(escalar)\r\n",
    "\r\n",
    "scalar_multiply(vector_1, escalar)"
   ],
   "outputs": [],
   "metadata": {}
  },
  {
   "cell_type": "code",
   "execution_count": null,
   "source": [
    "\"\"\"\r\n",
    "Média de uma lista de vetores\r\n",
    "Realizar a soma de vetores, obtendo um novo vetor\r\n",
    "Dividir cada elemento deste vetor pelo seu tamanho.\r\n",
    "\"\"\"\r\n",
    "\r\n",
    "def vectors_mean(vectors):\r\n",
    "    return scalar_multiply(vectors_sum(vectors), 1/len(vectors))\r\n",
    "\r\n",
    "print(lista_vetores)\r\n",
    "print(vectors_sum(lista_vetores))\r\n",
    "\r\n",
    "vectors_mean(lista_vetores)"
   ],
   "outputs": [],
   "metadata": {}
  },
  {
   "cell_type": "code",
   "execution_count": null,
   "source": [
    "\"\"\"\r\n",
    "Produto Escalar\r\n",
    "Dado dois vetores\r\n",
    "Multiplicar seus elementos\r\n",
    "v[0] * w[0], v[1] * w[1], ..., v[n] * w[n]\r\n",
    "Depois somar cada elemento em um único número.  \r\n",
    "\"\"\"\r\n",
    "\r\n",
    "def dot(v, w):\r\n",
    "    return sum(vector_mul(v, w))\r\n",
    "\r\n",
    "print(vector_1)\r\n",
    "print(vector_2)\r\n",
    "\r\n",
    "print(vector_mul(vector_1, vector_2))\r\n",
    "\r\n",
    "dot(vector_1, vector_2)"
   ],
   "outputs": [],
   "metadata": {}
  },
  {
   "cell_type": "code",
   "execution_count": null,
   "source": [
    "\"\"\"\r\n",
    "Soma dos quadrados de um vetor\r\n",
    "Dado um vetor\r\n",
    "Aplicar o produto escalar em seus elementos.\r\n",
    "\"\"\"\r\n",
    "\r\n",
    "def sum_of_squares(v):\r\n",
    "    return dot(v, v)\r\n",
    "\r\n",
    "print(vector_1)\r\n",
    "\r\n",
    "sum_of_squares(vector_1)"
   ],
   "outputs": [],
   "metadata": {}
  },
  {
   "cell_type": "code",
   "execution_count": null,
   "source": [
    "\"\"\"\r\n",
    "Computar a magnitude\r\n",
    "Raíz quadrada da soma dos elementos ao quadrado\r\n",
    "Calcular a hipotenusa de um vetor\r\n",
    "Dentro de um plano cartesiano, dado seus pontos\r\n",
    "Seu módulo, tamanho.\r\n",
    "\"\"\"\r\n",
    "\r\n",
    "from math import sqrt\r\n",
    "\r\n",
    "def magnitude(v):\r\n",
    "    return sqrt(sum_of_squares(v))\r\n",
    "\r\n",
    "print(vector_1)\r\n",
    "\r\n",
    "magnitude(vector_1)"
   ],
   "outputs": [],
   "metadata": {}
  },
  {
   "cell_type": "code",
   "execution_count": null,
   "source": [
    "\"\"\"\r\n",
    "Calcular a distância entre dois vetore\r\n",
    "Definida como: √(v1- w1)² + ... (vn - wn)².\r\n",
    "\"\"\"\r\n",
    "\r\n",
    "def distance_vectors(v, w):\r\n",
    "    return magnitude(vector_sub(v, w))\r\n",
    "\r\n",
    "print(vector_1)\r\n",
    "print(vector_2)\r\n",
    "\r\n",
    "distance_vectors(vector_1, vector_2)"
   ],
   "outputs": [],
   "metadata": {}
  },
  {
   "cell_type": "markdown",
   "source": [
    "# Numpy"
   ],
   "metadata": {}
  },
  {
   "cell_type": "markdown",
   "source": [
    "## Matrizes"
   ],
   "metadata": {}
  },
  {
   "cell_type": "markdown",
   "source": [
    "### Matriz é uma coleção de números bidimensional.\n",
    "\n",
    "### Representamos matriz como lista de listas.\n"
   ],
   "metadata": {}
  },
  {
   "cell_type": "code",
   "execution_count": 11,
   "source": [
    "import numpy as np\r\n"
   ],
   "outputs": [],
   "metadata": {}
  },
  {
   "cell_type": "code",
   "execution_count": 12,
   "source": [
    "\"\"\"\r\n",
    "Criando uma matriz 2D\r\n",
    "\"\"\"\r\n",
    "A = np.array([\r\n",
    "              [1, 2, 3], \r\n",
    "              [4, 5, 6]\r\n",
    "             ])\r\n",
    "A"
   ],
   "outputs": [
    {
     "output_type": "execute_result",
     "data": {
      "text/plain": [
       "array([[1, 2, 3],\n",
       "       [4, 5, 6]])"
      ]
     },
     "metadata": {},
     "execution_count": 12
    }
   ],
   "metadata": {}
  },
  {
   "cell_type": "code",
   "execution_count": 14,
   "source": [
    "\"\"\"\r\n",
    "Criando uma matriz 2D\r\n",
    "Com 2 linhas e 3 colunas\r\n",
    "Preenchidas com o número 5.\r\n",
    "\"\"\"\r\n",
    "B = np.full((2, 3), 5)\r\n",
    "B"
   ],
   "outputs": [
    {
     "output_type": "execute_result",
     "data": {
      "text/plain": [
       "array([[5, 5, 5],\n",
       "       [5, 5, 5]])"
      ]
     },
     "metadata": {},
     "execution_count": 14
    }
   ],
   "metadata": {}
  },
  {
   "cell_type": "markdown",
   "source": [
    "### Soma de Matrizes"
   ],
   "metadata": {}
  },
  {
   "cell_type": "code",
   "execution_count": 18,
   "source": [
    "\"\"\"\r\n",
    "Criando 2 matrizes 2D\r\n",
    "Somando o elemento de M1[0][0] com M2[0][0]\r\n",
    "E assim por diante até M1[1][3] com M2[1][3]\r\n",
    "Formando uma única matriz C com a soma.\r\n",
    "\"\"\"\r\n",
    "\r\n",
    "A = np.array([\r\n",
    "    [1, 4, 6, 2],\r\n",
    "    [2, 5, 3, 7]\r\n",
    "])\r\n",
    "\r\n",
    "B = np.array([\r\n",
    "    [9, 6, 4, 8],\r\n",
    "    [8, 5, 7, 3]\r\n",
    "])\r\n",
    "\r\n",
    "C = A + B\r\n",
    "C"
   ],
   "outputs": [
    {
     "output_type": "execute_result",
     "data": {
      "text/plain": [
       "array([[10, 10, 10, 10],\n",
       "       [10, 10, 10, 10]])"
      ]
     },
     "metadata": {},
     "execution_count": 18
    }
   ],
   "metadata": {}
  },
  {
   "cell_type": "markdown",
   "source": [
    "### Subtração de Matrizes"
   ],
   "metadata": {}
  },
  {
   "cell_type": "code",
   "execution_count": 21,
   "source": [
    "\"\"\"\r\n",
    "Utilizando as mesmas matrizes A e B da soma\r\n",
    "Apenas mudando o sinal da conta, gerando a matriz C.\r\n",
    "\"\"\"\r\n",
    "\r\n",
    "C = A - B\r\n",
    "C"
   ],
   "outputs": [
    {
     "output_type": "execute_result",
     "data": {
      "text/plain": [
       "array([[-8, -2,  2, -6],\n",
       "       [-6,  0, -4,  4]])"
      ]
     },
     "metadata": {},
     "execution_count": 21
    }
   ],
   "metadata": {}
  },
  {
   "cell_type": "markdown",
   "source": [
    "### Produto de Hadamard"
   ],
   "metadata": {}
  },
  {
   "cell_type": "code",
   "execution_count": 28,
   "source": [
    "\"\"\"\r\n",
    "Multiplicação de elementos correspondentes\r\n",
    "em duas ou mais matrizes com mesmo tamanho.\r\n",
    "\"\"\"\r\n",
    "\r\n",
    "C = A * B \r\n",
    "C"
   ],
   "outputs": [
    {
     "output_type": "execute_result",
     "data": {
      "text/plain": [
       "array([[ 9, 24, 24, 16],\n",
       "       [16, 25, 21, 21]])"
      ]
     },
     "metadata": {},
     "execution_count": 28
    }
   ],
   "metadata": {}
  }
 ],
 "metadata": {
  "interpreter": {
   "hash": "b2a6f09527545e370935e82da67d9200a6ba8ae5f29d2a729dc4524a539d679f"
  },
  "kernelspec": {
   "display_name": "Python 3",
   "language": "python",
   "name": "python3"
  },
  "language_info": {
   "codemirror_mode": {
    "name": "ipython",
    "version": 3
   },
   "file_extension": ".py",
   "mimetype": "text/x-python",
   "name": "python",
   "nbconvert_exporter": "python",
   "pygments_lexer": "ipython3",
   "version": "3.8.8"
  }
 },
 "nbformat": 4,
 "nbformat_minor": 2
}