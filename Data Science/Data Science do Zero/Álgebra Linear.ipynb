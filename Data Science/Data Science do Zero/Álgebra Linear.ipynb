{
 "cells": [
  {
   "cell_type": "markdown",
   "source": [
    "# Álgebra Linear - Capítulo 4"
   ],
   "metadata": {}
  },
  {
   "cell_type": "markdown",
   "source": [
    "### Ramo da matemática que lida com espaços vetoriais "
   ],
   "metadata": {}
  },
  {
   "cell_type": "markdown",
   "source": [
    "## Vetores"
   ],
   "metadata": {}
  },
  {
   "cell_type": "markdown",
   "source": [
    "### Vetores são objetos que podem ser somados juntos e ser multiplicados pelos escalares, formando novos vetores.\r\n",
    "### Vetores são pontos em algum espaço de dimensão finita."
   ],
   "metadata": {}
  },
  {
   "cell_type": "code",
   "execution_count": null,
   "source": [
    "\"\"\"\r\n",
    "Representar vetores como uma lista de números.\r\n",
    "Uma lista de três números corresponde a um vetor em um espaço tridimensional.\r\n",
    "\"\"\"\r\n",
    "\r\n",
    "hgt_wt_age = [172, # Em cm\r\n",
    "              75,  # Em kg\r\n",
    "              37]  # Em anos"
   ],
   "outputs": [],
   "metadata": {}
  },
  {
   "cell_type": "markdown",
   "source": [
    "### Aritmética de Vetores"
   ],
   "metadata": {}
  },
  {
   "cell_type": "code",
   "execution_count": null,
   "source": [
    "import numpy as np\r\n",
    "from functools import reduce\r\n",
    "\r\n",
    "# Provavelmente existe uma forma melhor de fazer essas atribuições.\r\n",
    "vector_1 = np.random.randint(np.arange(1, 9))\r\n",
    "vector_2 = np.random.randint(np.arange(1, 9))\r\n",
    "vector_3 = np.random.randint(np.arange(1, 9))\r\n",
    "vector_4 = np.random.randint(np.arange(1, 9))"
   ],
   "outputs": [],
   "metadata": {}
  },
  {
   "cell_type": "code",
   "execution_count": null,
   "source": [
    "\"\"\"\r\n",
    "Dado dois vetores v e w\r\n",
    "Somar os elementos correspondentes de cada\r\n",
    "v[0] + w[0], v[1] + v[1], ..., v[n] + w[n]\r\n",
    "Criando um novo vetor.\r\n",
    "\"\"\"\r\n",
    "def vector_add(v, w):\r\n",
    "    return [v_i + w_i for v_i, w_i in zip(v, w)]\r\n",
    "\r\n",
    "print(vector_1)\r\n",
    "print(vector_2)\r\n",
    "\r\n",
    "vector_add(vector_1, vector_2)"
   ],
   "outputs": [],
   "metadata": {}
  },
  {
   "cell_type": "code",
   "execution_count": null,
   "source": [
    "\"\"\"\r\n",
    "Dado dois vetores v e w\r\n",
    "Subtrair os elementos correspondentes de cada\r\n",
    "v[0] - w[0], v[1] - v[1], ..., v[n] - w[n]\r\n",
    "Criando um novo vetor.\r\n",
    "\"\"\"\r\n",
    "\r\n",
    "def vector_sub(v, w):\r\n",
    "    return [v_i - w_i for v_i, w_i in zip(v, w)]\r\n",
    "\r\n",
    "print(vector_1)\r\n",
    "print(vector_2)\r\n",
    "\r\n",
    "vector_sub(vector_1, vector_2)"
   ],
   "outputs": [],
   "metadata": {}
  },
  {
   "cell_type": "code",
   "execution_count": null,
   "source": [
    "\"\"\"\r\n",
    "Dado dois vetores v e w\r\n",
    "Multiplicar os elementos correspondentes de cada\r\n",
    "v[0] * w[0], v[1] * v[1], ..., v[n] * w[n]\r\n",
    "Criando um novo vetor.\r\n",
    "\"\"\"\r\n",
    "\r\n",
    "def vector_mul(v, w):\r\n",
    "    return [v_i * w_i for v_i, w_i in zip(v, w)]\r\n",
    "\r\n",
    "print(vector_1)\r\n",
    "print(vector_2)\r\n",
    "\r\n",
    "vector_mul(vector_1, vector_2)"
   ],
   "outputs": [],
   "metadata": {}
  },
  {
   "cell_type": "code",
   "execution_count": null,
   "source": [
    "\"\"\"\r\n",
    "Somar uma lista de vetores\r\n",
    "Criar novo vetor\r\n",
    "cujo primeiro elemento seja a soma de todos os primeiros elementos\r\n",
    "cujo segundo elemento seja a soma de todos os segundos elementos\r\n",
    "e assim por diante.\r\n",
    "\"\"\"\r\n",
    "\r\n",
    "def vectors_sum(vectors):\r\n",
    "    return reduce(vector_add, vectors)\r\n",
    "\r\n",
    "lista_vetores = [vector_1, vector_2, vector_3, vector_4]\r\n",
    "\r\n",
    "print(lista_vetores)\r\n",
    "\r\n",
    "vectors_sum(lista_vetores)"
   ],
   "outputs": [],
   "metadata": {}
  },
  {
   "cell_type": "code",
   "execution_count": null,
   "source": [
    "\"\"\"\r\n",
    "Multiplicar um vetor por um escalar\r\n",
    "Isto é, multiplicar cada elemento de um vetor\r\n",
    "por um número x.\r\n",
    "\"\"\"\r\n",
    "\r\n",
    "def scalar_multiply(v, escalar):\r\n",
    "    return [escalar * v_i for v_i in v]\r\n",
    "\r\n",
    "print(vector_1)\r\n",
    "\r\n",
    "escalar = np.random.randint(1, 100)\r\n",
    "print(escalar)\r\n",
    "\r\n",
    "scalar_multiply(vector_1, escalar)"
   ],
   "outputs": [],
   "metadata": {}
  },
  {
   "cell_type": "code",
   "execution_count": null,
   "source": [
    "\"\"\"\r\n",
    "Média de uma lista de vetores\r\n",
    "Realizar a soma de vetores, obtendo um novo vetor\r\n",
    "Dividir cada elemento deste vetor pelo seu tamanho.\r\n",
    "\"\"\"\r\n",
    "\r\n",
    "def vectors_mean(vectors):\r\n",
    "    return scalar_multiply(vectors_sum(vectors), 1/len(vectors))\r\n",
    "\r\n",
    "print(lista_vetores)\r\n",
    "print(vectors_sum(lista_vetores))\r\n",
    "\r\n",
    "vectors_mean(lista_vetores)"
   ],
   "outputs": [],
   "metadata": {}
  },
  {
   "cell_type": "code",
   "execution_count": null,
   "source": [
    "\"\"\"\r\n",
    "Produto Escalar\r\n",
    "Dado dois vetores\r\n",
    "Multiplicar seus elementos\r\n",
    "v[0] * w[0], v[1] * w[1], ..., v[n] * w[n]\r\n",
    "Depois somar cada elemento em um único número.  \r\n",
    "\"\"\"\r\n",
    "\r\n",
    "def dot(v, w):\r\n",
    "    return sum(vector_mul(v, w))\r\n",
    "\r\n",
    "print(vector_1)\r\n",
    "print(vector_2)\r\n",
    "\r\n",
    "print(vector_mul(vector_1, vector_2))\r\n",
    "\r\n",
    "dot(vector_1, vector_2)"
   ],
   "outputs": [],
   "metadata": {}
  }
 ],
 "metadata": {
  "orig_nbformat": 4,
  "language_info": {
   "name": "python",
   "version": "3.9.6",
   "mimetype": "text/x-python",
   "codemirror_mode": {
    "name": "ipython",
    "version": 3
   },
   "pygments_lexer": "ipython3",
   "nbconvert_exporter": "python",
   "file_extension": ".py"
  },
  "kernelspec": {
   "name": "python3",
   "display_name": "Python 3.9.6 64-bit"
  },
  "interpreter": {
   "hash": "b2a6f09527545e370935e82da67d9200a6ba8ae5f29d2a729dc4524a539d679f"
  }
 },
 "nbformat": 4,
 "nbformat_minor": 2
}