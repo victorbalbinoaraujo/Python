{
 "cells": [
  {
   "cell_type": "markdown",
   "metadata": {},
   "source": [
    "# Álgebra Linear - Capítulo 4"
   ]
  },
  {
   "cell_type": "markdown",
   "metadata": {},
   "source": [
    "### Ramo da matemática que lida com espaços vetoriais. "
   ]
  },
  {
   "cell_type": "markdown",
   "metadata": {},
   "source": [
    "## Vetores"
   ]
  },
  {
   "cell_type": "markdown",
   "metadata": {},
   "source": [
    "### Vetores são objetos que podem ser somados juntos e ser multiplicados pelos escalares, formando novos vetores.\n",
    "### Vetores são pontos em algum espaço de dimensão finita."
   ]
  },
  {
   "cell_type": "code",
   "execution_count": null,
   "metadata": {},
   "outputs": [],
   "source": [
    "\"\"\"\n",
    "Representar vetores como uma lista de números.\n",
    "Uma lista de três números corresponde a um vetor em um espaço tridimensional.\n",
    "\"\"\"\n",
    "\n",
    "hgt_wt_age = [172, # Em cm\n",
    "              75,  # Em kg\n",
    "              37]  # Em anos"
   ]
  },
  {
   "cell_type": "markdown",
   "metadata": {},
   "source": [
    "### Aritmética de Vetores"
   ]
  },
  {
   "cell_type": "code",
   "execution_count": null,
   "metadata": {},
   "outputs": [],
   "source": [
    "import numpy as np\n",
    "from functools import reduce\n",
    "\n",
    "# Provavelmente existe uma forma melhor de fazer essas atribuições.\n",
    "vector_1 = np.random.randint(np.arange(1, 9))\n",
    "vector_2 = np.random.randint(np.arange(1, 9))\n",
    "vector_3 = np.random.randint(np.arange(1, 9))\n",
    "vector_4 = np.random.randint(np.arange(1, 9))"
   ]
  },
  {
   "cell_type": "code",
   "execution_count": null,
   "metadata": {},
   "outputs": [],
   "source": [
    "\"\"\"\n",
    "Dado dois vetores v e w\n",
    "Somar os elementos correspondentes de cada\n",
    "v[0] + w[0], v[1] + v[1], ..., v[n] + w[n]\n",
    "Criando um novo vetor.\n",
    "\"\"\"\n",
    "def vector_add(v, w):\n",
    "    return [v_i + w_i for v_i, w_i in zip(v, w)]\n",
    "\n",
    "print(vector_1)\n",
    "print(vector_2)\n",
    "\n",
    "vector_add(vector_1, vector_2)"
   ]
  },
  {
   "cell_type": "code",
   "execution_count": null,
   "metadata": {},
   "outputs": [],
   "source": [
    "\"\"\"\n",
    "Dado dois vetores v e w\n",
    "Subtrair os elementos correspondentes de cada\n",
    "v[0] - w[0], v[1] - v[1], ..., v[n] - w[n]\n",
    "Criando um novo vetor.\n",
    "\"\"\"\n",
    "\n",
    "def vector_sub(v, w):\n",
    "    return [v_i - w_i for v_i, w_i in zip(v, w)]\n",
    "\n",
    "print(vector_1)\n",
    "print(vector_2)\n",
    "\n",
    "vector_sub(vector_1, vector_2)"
   ]
  },
  {
   "cell_type": "code",
   "execution_count": null,
   "metadata": {},
   "outputs": [],
   "source": [
    "\"\"\"\n",
    "Dado dois vetores v e w\n",
    "Multiplicar os elementos correspondentes de cada\n",
    "v[0] * w[0], v[1] * v[1], ..., v[n] * w[n]\n",
    "Criando um novo vetor.\n",
    "\"\"\"\n",
    "\n",
    "def vector_mul(v, w):\n",
    "    return [v_i * w_i for v_i, w_i in zip(v, w)]\n",
    "\n",
    "print(vector_1)\n",
    "print(vector_2)\n",
    "\n",
    "vector_mul(vector_1, vector_2)"
   ]
  },
  {
   "cell_type": "code",
   "execution_count": null,
   "metadata": {},
   "outputs": [],
   "source": [
    "\"\"\"\n",
    "Somar uma lista de vetores\n",
    "Criar novo vetor\n",
    "cujo primeiro elemento seja a soma de todos os primeiros elementos\n",
    "cujo segundo elemento seja a soma de todos os segundos elementos\n",
    "e assim por diante.\n",
    "\"\"\"\n",
    "\n",
    "def vectors_sum(vectors):\n",
    "    return reduce(vector_add, vectors)\n",
    "\n",
    "lista_vetores = [vector_1, vector_2, vector_3, vector_4]\n",
    "\n",
    "print(lista_vetores)\n",
    "\n",
    "vectors_sum(lista_vetores)"
   ]
  },
  {
   "cell_type": "code",
   "execution_count": null,
   "metadata": {},
   "outputs": [],
   "source": [
    "\"\"\"\n",
    "Multiplicar um vetor por um escalar\n",
    "Isto é, multiplicar cada elemento de um vetor\n",
    "por um número x.\n",
    "\"\"\"\n",
    "\n",
    "def scalar_multiply(v, escalar):\n",
    "    return [escalar * v_i for v_i in v]\n",
    "\n",
    "print(vector_1)\n",
    "\n",
    "escalar = np.random.randint(1, 100)\n",
    "print(escalar)\n",
    "\n",
    "scalar_multiply(vector_1, escalar)"
   ]
  },
  {
   "cell_type": "code",
   "execution_count": null,
   "metadata": {},
   "outputs": [],
   "source": [
    "\"\"\"\n",
    "Média de uma lista de vetores\n",
    "Realizar a soma de vetores, obtendo um novo vetor\n",
    "Dividir cada elemento deste vetor pelo seu tamanho.\n",
    "\"\"\"\n",
    "\n",
    "def vectors_mean(vectors):\n",
    "    return scalar_multiply(vectors_sum(vectors), 1/len(vectors))\n",
    "\n",
    "print(lista_vetores)\n",
    "print(vectors_sum(lista_vetores))\n",
    "\n",
    "vectors_mean(lista_vetores)"
   ]
  },
  {
   "cell_type": "code",
   "execution_count": null,
   "metadata": {},
   "outputs": [],
   "source": [
    "\"\"\"\n",
    "Produto Escalar\n",
    "Dado dois vetores\n",
    "Multiplicar seus elementos\n",
    "v[0] * w[0], v[1] * w[1], ..., v[n] * w[n]\n",
    "Depois somar cada elemento em um único número.  \n",
    "\"\"\"\n",
    "\n",
    "def dot(v, w):\n",
    "    return sum(vector_mul(v, w))\n",
    "\n",
    "print(vector_1)\n",
    "print(vector_2)\n",
    "\n",
    "print(vector_mul(vector_1, vector_2))\n",
    "\n",
    "dot(vector_1, vector_2)"
   ]
  },
  {
   "cell_type": "code",
   "execution_count": null,
   "metadata": {},
   "outputs": [],
   "source": [
    "\"\"\"\n",
    "Soma dos quadrados de um vetor\n",
    "Dado um vetor\n",
    "Aplicar o produto escalar em seus elementos.\n",
    "\"\"\"\n",
    "\n",
    "def sum_of_squares(v):\n",
    "    return dot(v, v)\n",
    "\n",
    "print(vector_1)\n",
    "\n",
    "sum_of_squares(vector_1)"
   ]
  },
  {
   "cell_type": "code",
   "execution_count": null,
   "metadata": {},
   "outputs": [],
   "source": [
    "\"\"\"\n",
    "Computar a magnitude\n",
    "Raíz quadrada da soma dos elementos ao quadrado\n",
    "Calcular a hipotenusa de um vetor\n",
    "Dentro de um plano cartesiano, dado seus pontos\n",
    "Seu módulo, tamanho.\n",
    "\"\"\"\n",
    "\n",
    "import math\n",
    "\n",
    "sqrt = lambda x: math.sqrt(x)\n",
    "\n",
    "def magnitude(v):\n",
    "    return sqrt(sum_of_squares(v))\n",
    "\n",
    "print(vector_1)\n",
    "\n",
    "magnitude(vector_1)"
   ]
  },
  {
   "cell_type": "code",
   "execution_count": null,
   "metadata": {},
   "outputs": [],
   "source": [
    "\"\"\"\n",
    "Calcular a distância entre dois vetore\n",
    "Definida como: √(v1- w1)² + ... (vn - wn)².\n",
    "\"\"\"\n",
    "\n",
    "def distance_vectors(v, w):\n",
    "    return magnitude(vector_sub(v, w))\n",
    "\n",
    "print(vector_1)\n",
    "print(vector_2)\n",
    "\n",
    "distance_vectors(vector_1, vector_2)"
   ]
  },
  {
   "cell_type": "markdown",
   "metadata": {},
   "source": [
    "# Numpy"
   ]
  },
  {
   "cell_type": "markdown",
   "metadata": {},
   "source": [
    "## Matrizes"
   ]
  },
  {
   "cell_type": "markdown",
   "metadata": {},
   "source": [
    "### Matriz é uma coleção de números bidimensional.\n",
    "\n",
    "### Representamos matriz como lista de listas.\n"
   ]
  },
  {
   "cell_type": "code",
   "execution_count": 11,
   "metadata": {},
   "outputs": [],
   "source": [
    "import numpy as np\n"
   ]
  },
  {
   "cell_type": "code",
   "execution_count": 12,
   "metadata": {},
   "outputs": [
    {
     "data": {
      "text/plain": [
       "array([[1, 2, 3],\n",
       "       [4, 5, 6]])"
      ]
     },
     "execution_count": 12,
     "metadata": {},
     "output_type": "execute_result"
    }
   ],
   "source": [
    "\"\"\"\n",
    "Criando uma matriz 2D\n",
    "\"\"\"\n",
    "A = np.array([\n",
    "              [1, 2, 3], \n",
    "              [4, 5, 6]\n",
    "             ])\n",
    "A"
   ]
  },
  {
   "cell_type": "code",
   "execution_count": 14,
   "metadata": {},
   "outputs": [
    {
     "data": {
      "text/plain": [
       "array([[5, 5, 5],\n",
       "       [5, 5, 5]])"
      ]
     },
     "execution_count": 14,
     "metadata": {},
     "output_type": "execute_result"
    }
   ],
   "source": [
    "\"\"\"\n",
    "Criando uma matriz 2D\n",
    "Com 2 linhas e 3 colunas\n",
    "Preenchidas com o número 5.\n",
    "\"\"\"\n",
    "B = np.full((2, 3), 5)\n",
    "B"
   ]
  },
  {
   "cell_type": "markdown",
   "metadata": {},
   "source": [
    "### Soma de Matrizes"
   ]
  },
  {
   "cell_type": "code",
   "execution_count": 18,
   "metadata": {},
   "outputs": [
    {
     "data": {
      "text/plain": [
       "array([[10, 10, 10, 10],\n",
       "       [10, 10, 10, 10]])"
      ]
     },
     "execution_count": 18,
     "metadata": {},
     "output_type": "execute_result"
    }
   ],
   "source": [
    "\"\"\"\n",
    "Criando 2 matrizes 2D\n",
    "Somando o elemento de M1[0][0] com M2[0][0]\n",
    "E assim por diante até M1[1][3] com M2[1][3]\n",
    "Formando uma única matriz C com a soma.\n",
    "\"\"\"\n",
    "\n",
    "A = np.array([\n",
    "    [1, 4, 6, 2],\n",
    "    [2, 5, 3, 7]\n",
    "])\n",
    "\n",
    "B = np.array([\n",
    "    [9, 6, 4, 8],\n",
    "    [8, 5, 7, 3]\n",
    "])\n",
    "\n",
    "C = A + B\n",
    "C"
   ]
  },
  {
   "cell_type": "markdown",
   "metadata": {},
   "source": [
    "### Subtração de Matrizes"
   ]
  },
  {
   "cell_type": "code",
   "execution_count": 21,
   "metadata": {},
   "outputs": [
    {
     "data": {
      "text/plain": [
       "array([[-8, -2,  2, -6],\n",
       "       [-6,  0, -4,  4]])"
      ]
     },
     "execution_count": 21,
     "metadata": {},
     "output_type": "execute_result"
    }
   ],
   "source": [
    "\"\"\"\n",
    "Utilizando as mesmas matrizes A e B da soma\n",
    "Apenas mudando o sinal da conta, gerando a matriz C.\n",
    "\"\"\"\n",
    "\n",
    "C = A - B\n",
    "C"
   ]
  },
  {
   "cell_type": "markdown",
   "metadata": {},
   "source": [
    "### Produto de Hadamard"
   ]
  },
  {
   "cell_type": "code",
   "execution_count": 28,
   "metadata": {},
   "outputs": [
    {
     "data": {
      "text/plain": [
       "array([[ 9, 24, 24, 16],\n",
       "       [16, 25, 21, 21]])"
      ]
     },
     "execution_count": 28,
     "metadata": {},
     "output_type": "execute_result"
    }
   ],
   "source": [
    "\"\"\"\n",
    "Multiplicação de elementos correspondentes\n",
    "em duas ou mais matrizes com mesmo tamanho.\n",
    "\"\"\"\n",
    "\n",
    "C = A * B \n",
    "C"
   ]
  }
 ],
 "metadata": {
  "interpreter": {
   "hash": "b2a6f09527545e370935e82da67d9200a6ba8ae5f29d2a729dc4524a539d679f"
  },
  "kernelspec": {
   "display_name": "Python 3",
   "language": "python",
   "name": "python3"
  },
  "language_info": {
   "codemirror_mode": {
    "name": "ipython",
    "version": 3
   },
   "file_extension": ".py",
   "mimetype": "text/x-python",
   "name": "python",
   "nbconvert_exporter": "python",
   "pygments_lexer": "ipython3",
   "version": "3.8.8"
  }
 },
 "nbformat": 4,
 "nbformat_minor": 2
}
