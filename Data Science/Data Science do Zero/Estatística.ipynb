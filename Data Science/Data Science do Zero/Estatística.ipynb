{
 "cells": [
  {
   "cell_type": "markdown",
   "source": [
    "# Estatística - Capítulo 5"
   ],
   "metadata": {}
  },
  {
   "cell_type": "markdown",
   "source": [
    "### A estatística se refere à matemática e às técnicas com as quais entedemos os dados. "
   ],
   "metadata": {}
  },
  {
   "cell_type": "markdown",
   "source": [
    "## Descrevendo um Conjunto único de dados."
   ],
   "metadata": {}
  },
  {
   "cell_type": "markdown",
   "source": [
    "### Não mais produzir dados, e sim, descrevê-los.\n",
    "### Estatística para destilar e comunicar os aspectos relevantes dos dados."
   ],
   "metadata": {}
  },
  {
   "cell_type": "code",
   "execution_count": 1,
   "source": [
    "\"\"\"\r\n",
    "Primeira abordagem\r\n",
    "Contagem de amigos em um histograma.\r\n",
    "\"\"\"\r\n",
    "\r\n",
    "import numpy as np # Array com valores aleatórios.\r\n",
    "import matplotlib.pyplot as plt # Gráfico de barras.\r\n",
    "from collections import Counter # Contagem."
   ],
   "outputs": [],
   "metadata": {}
  },
  {
   "cell_type": "code",
   "execution_count": 2,
   "source": [
    "# 1000 Valores inteiros aleatórios entre 0 e 10 representando a nota de 1000 alunos em uma prova.\r\n",
    "notas = np.random.randint(0, 11, size=1000) \r\n",
    "notas"
   ],
   "outputs": [
    {
     "output_type": "execute_result",
     "data": {
      "text/plain": [
       "array([ 8,  0,  4,  7,  3,  8,  1,  7,  7,  1,  1,  3,  1,  1,  1,  3,  4,\n",
       "        2,  1,  4,  2,  4,  1,  9,  6,  5,  5,  9,  4,  3,  9,  7,  5,  8,\n",
       "        6,  6,  0,  7,  5, 10,  9,  6, 10,  4, 10,  1,  7,  1, 10,  7,  4,\n",
       "        8,  5,  3,  0,  1,  3, 10,  8,  7,  1,  4,  5,  3,  8, 10,  3,  0,\n",
       "        4,  5, 10,  3,  5,  3,  3,  4,  7,  7,  0,  9,  7,  8, 10,  2,  7,\n",
       "        2,  1,  4, 10,  4,  6, 10,  0,  5, 10,  8,  8,  8,  4,  7,  3,  8,\n",
       "        1,  8,  1,  9,  1,  9,  9, 10,  0,  0,  0,  7,  8,  7,  9,  8,  5,\n",
       "        5, 10,  9, 10,  1,  9,  5,  4,  1,  1,  0,  7,  2,  3,  7,  4,  9,\n",
       "        7,  4, 10,  0,  2,  2, 10,  6, 10,  4,  5,  7,  3,  0,  7,  7,  5,\n",
       "        5,  3,  3,  3,  6,  4,  6,  6,  2,  9,  2,  4,  1,  9,  4,  5,  1,\n",
       "       10,  0,  1,  1,  3,  7,  3,  7,  2,  5,  2,  0,  4,  5,  2,  9,  7,\n",
       "        1,  9,  9,  5,  9,  4,  6,  5,  9,  7,  2,  4,  5,  9,  6,  8,  9,\n",
       "        8,  3,  8,  7,  2,  1,  7,  4,  7,  4, 10,  5,  6,  4,  1,  6, 10,\n",
       "        4,  9,  6,  0,  1,  0,  7,  6,  6,  4,  4,  4,  1,  1,  1,  7,  2,\n",
       "        9,  1,  9,  4,  7,  9,  9,  9,  0,  8,  6,  9,  7,  7,  6,  7,  9,\n",
       "        6,  3,  8,  7,  6,  7,  3,  7,  6,  4,  3,  1,  7,  7,  6,  2,  4,\n",
       "        5,  5,  0,  8,  3,  8,  4,  1,  8, 10,  9,  2,  2,  5, 10,  9,  5,\n",
       "        1,  0,  3,  6,  8,  3,  0, 10,  1,  2,  3,  1,  8,  1,  6,  4, 10,\n",
       "        7,  3,  9,  8,  3, 10, 10,  2,  7,  8,  9,  4,  4,  5,  5,  4,  4,\n",
       "        1,  5,  6,  3,  8,  2, 10,  0,  7,  2,  1,  2,  3,  7,  7,  9,  0,\n",
       "        5,  7, 10, 10,  4,  1,  4,  6,  3,  8,  3,  7,  4,  9,  1, 10, 10,\n",
       "        8,  2,  7,  4,  9,  5,  3,  4,  3,  7,  9,  4, 10,  4,  9, 10, 10,\n",
       "        9,  8,  3,  7,  0,  9,  9,  5,  1,  4,  8,  9,  2,  6,  3,  0,  7,\n",
       "        3,  8,  9,  7,  3, 10,  6,  8,  7,  8,  6,  3,  5,  5,  8,  1, 10,\n",
       "        8,  6,  3,  0,  7,  7,  6,  8, 10,  6,  2,  3,  2,  6,  7,  0,  7,\n",
       "        0, 10,  5,  2,  1,  0,  8,  0, 10,  3,  6, 10,  0,  0,  1,  1,  0,\n",
       "        5,  2,  6,  3,  9,  6,  6,  8,  4,  8,  3,  7,  9, 10, 10,  9,  4,\n",
       "       10,  8, 10,  2,  1,  5,  4,  0,  1,  2,  6, 10,  0,  0,  5,  4,  1,\n",
       "        0,  2,  8,  2,  3,  2,  2,  3,  4,  8, 10,  1,  2,  4,  6,  6,  7,\n",
       "        6,  5,  6,  5,  7,  1,  6,  7, 10,  2,  2,  3,  0,  8,  9,  9,  7,\n",
       "        2,  9,  3,  0,  5,  2,  6,  6,  4,  4,  4, 10,  2, 10,  2,  7,  8,\n",
       "        0,  0,  8,  5,  0,  8,  2,  6,  4,  9,  8,  0,  1,  9,  8,  4,  4,\n",
       "       10,  3,  7,  7,  8,  3,  1,  5,  9,  3,  4,  1,  3,  0,  1,  2,  1,\n",
       "        8,  9,  8,  0,  9,  6,  7,  6,  7,  2,  0,  4,  3, 10, 10,  7,  6,\n",
       "        8,  4,  3,  7,  4,  0,  9,  9,  0,  6,  2,  0,  8,  0,  0,  7,  3,\n",
       "        1,  4,  5,  4, 10,  3,  3,  3,  0,  0,  3, 10,  3,  2,  2,  7,  8,\n",
       "        1,  5,  6,  4,  1,  7,  5,  2,  0,  8,  7,  8,  5,  9,  4,  8,  6,\n",
       "        5,  0,  0,  5,  4,  8,  6,  5,  2,  6,  2,  7,  1,  2, 10,  4, 10,\n",
       "        4,  6,  8,  8,  0,  5,  7,  3,  7,  3,  9,  6,  6,  2, 10,  2, 10,\n",
       "        7,  4,  3,  0,  7,  5, 10,  0,  2,  4,  0,  9,  5,  4,  0, 10,  4,\n",
       "        0,  6,  3,  4,  0,  9,  7,  1,  2,  1,  3,  8,  2,  5,  3, 10,  3,\n",
       "        2,  9,  7,  0,  7,  2,  7,  6,  0,  2,  8,  1,  5,  7,  8,  6,  3,\n",
       "        7,  8, 10,  4,  0,  0,  3,  4, 10,  0,  1,  9,  0,  9,  1,  7,  6,\n",
       "        5, 10,  5,  0,  4,  9,  9,  1,  1,  8,  6,  9,  2,  9,  3, 10,  1,\n",
       "        8,  3,  4,  4,  3,  2, 10,  3,  1,  3,  3,  9,  9,  0,  3,  4,  6,\n",
       "        9,  6,  5,  8,  7,  8,  6,  8,  6,  1,  7,  0,  5,  2,  4,  4,  2,\n",
       "        4,  6,  9,  3,  2,  8,  1,  8,  1,  0,  1,  4,  4,  5,  1,  3,  4,\n",
       "        2,  9,  8,  8,  8,  5,  3,  2,  6,  2,  6,  9,  8,  3,  4,  9,  3,\n",
       "        0, 10,  9,  3,  9,  1,  7,  3,  9,  4,  9, 10,  3,  6,  5,  4,  5,\n",
       "        2,  2,  3, 10,  2,  2,  6,  8,  3,  9, 10,  9,  7,  2,  0,  6,  3,\n",
       "        4,  5,  4,  4,  7,  3,  6,  0,  9,  1,  5,  8,  6,  2,  6,  0,  8,\n",
       "        0,  4,  2,  0,  1,  3,  1,  7, 10,  7,  7,  5,  2,  2,  8,  2,  0,\n",
       "        9,  3,  2,  4,  4,  5,  8,  7,  0,  3,  5, 10,  9,  0,  0,  6,  8,\n",
       "        6,  0,  2, 10, 10,  7,  9, 10,  2, 10,  4,  6,  3,  1,  8,  7,  4,\n",
       "       10,  2, 10,  9, 10,  7,  4,  0,  3,  3,  3,  2,  7,  7,  6,  4, 10,\n",
       "        2,  0, 10,  2, 10,  4,  8,  2, 10,  1,  3,  0,  9,  2,  8,  2,  5,\n",
       "        0,  9,  2,  5,  3,  0,  6,  1,  7,  8,  6,  9,  0,  2,  8, 10,  7,\n",
       "        7,  8,  3,  6,  3,  9,  5, 10,  2, 10,  6,  0,  3, 10,  0,  4,  8,\n",
       "        4,  2,  5,  3,  1,  0,  3,  9, 10,  6,  5,  1,  2,  8])"
      ]
     },
     "metadata": {},
     "execution_count": 2
    }
   ],
   "metadata": {}
  },
  {
   "cell_type": "code",
   "execution_count": 3,
   "source": [
    "# Notas : Quantidade de estudantes\r\n",
    "notas_counts = Counter(notas)\r\n",
    "sorted(notas_counts.items())"
   ],
   "outputs": [
    {
     "output_type": "execute_result",
     "data": {
      "text/plain": [
       "[(0, 92),\n",
       " (1, 83),\n",
       " (2, 93),\n",
       " (3, 103),\n",
       " (4, 103),\n",
       " (5, 73),\n",
       " (6, 84),\n",
       " (7, 101),\n",
       " (8, 90),\n",
       " (9, 90),\n",
       " (10, 88)]"
      ]
     },
     "metadata": {},
     "execution_count": 3
    }
   ],
   "metadata": {
    "scrolled": false
   }
  },
  {
   "cell_type": "code",
   "execution_count": 4,
   "source": [
    "# Notas para plot.\r\n",
    "xs = range(0, 11)\r\n",
    "\r\n",
    "# Alunos para plot.\r\n",
    "ys = [notas_counts[x] for x in xs]\r\n"
   ],
   "outputs": [],
   "metadata": {}
  },
  {
   "cell_type": "code",
   "execution_count": 5,
   "source": [
    "# Gráfico de barras.\r\n",
    "plt.bar(xs, ys)\r\n",
    "plt.title('Notas dos Alunos')\r\n",
    "plt.xlabel('# Notas')\r\n",
    "plt.ylabel(\"# Alunos\")\r\n",
    "plt.show()"
   ],
   "outputs": [
    {
     "output_type": "display_data",
     "data": {
      "image/png": "[encoded data removed]",
      "text/plain": [
       "<Figure size 432x288 with 1 Axes>"
      ]
     },
     "metadata": {
      "needs_background": "light"
     }
    }
   ],
   "metadata": {}
  },
  {
   "cell_type": "code",
   "execution_count": 6,
   "source": [
    "\"\"\"\r\n",
    "Gerar algumas estatísticas.\r\n",
    "\"\"\"\r\n",
    "\r\n",
    "# Pontos nos dados.\r\n",
    "pts = len(notas) # 1000\r\n",
    "\r\n",
    "# Valor máximo e mínimo\r\n",
    "max_value = max(notas) # 10\r\n",
    "min_value = min(notas) # 0"
   ],
   "outputs": [],
   "metadata": {}
  },
  {
   "cell_type": "markdown",
   "source": [
    "## Tendências Centrais"
   ],
   "metadata": {}
  },
  {
   "cell_type": "markdown",
   "source": [
    "### Noção de onde os dados estão centrados "
   ],
   "metadata": {}
  },
  {
   "cell_type": "code",
   "execution_count": 7,
   "source": [
    "\"\"\"\r\n",
    "Média\r\n",
    "Soma dos dados dividido pela sua contagem.\r\n",
    "\"\"\"\r\n",
    "\r\n",
    "def mean(x):\r\n",
    "    return sum(x) / len(x)\r\n",
    "\r\n",
    "mean(notas)"
   ],
   "outputs": [
    {
     "output_type": "execute_result",
     "data": {
      "text/plain": [
       "4.976"
      ]
     },
     "metadata": {},
     "execution_count": 7
    }
   ],
   "metadata": {}
  },
  {
   "cell_type": "code",
   "execution_count": 8,
   "source": [
    "\"\"\"\r\n",
    "Mediana\r\n",
    "Valor do meio se for ímpar\r\n",
    "Média dos dois valores que estiverem no meio se for par\r\n",
    "\r\n",
    "Por exemplo uma amostra com 10 valores:\r\n",
    "[1, 2, 3, 4, 5, 6, 7, 8, 9, 10]\r\n",
    "\r\n",
    "midpoint = 10 // 2 = 5\r\n",
    "\r\n",
    "low = 4\r\n",
    "high = 5\r\n",
    "\r\n",
    "return (5 + 6) / 2 = 5.5 \r\n",
    "\r\n",
    "Lembrete: É o ÍNDICE(!!!) de low e high e NÃO seus VALORES!\r\n",
    "\"\"\"\r\n",
    "\r\n",
    "def median(x):\r\n",
    "    pts = len(x)\r\n",
    "    s = sorted(x)\r\n",
    "    \r\n",
    "    midpoint = pts // 2\r\n",
    "    \r\n",
    "    if midpoint % 2 == 1:\r\n",
    "        return s[midpoint]\r\n",
    "    \r\n",
    "    else:\r\n",
    "        low = midpoint - 1\r\n",
    "        high = midpoint\r\n",
    "        \r\n",
    "        return (s[low] + s[high]) / 2\r\n",
    "\r\n",
    "median(notas) "
   ],
   "outputs": [
    {
     "output_type": "execute_result",
     "data": {
      "text/plain": [
       "5.0"
      ]
     },
     "metadata": {},
     "execution_count": 8
    }
   ],
   "metadata": {}
  },
  {
   "cell_type": "code",
   "execution_count": 9,
   "source": [
    "\"\"\"\r\n",
    "Média aparada\r\n",
    "Remove os n maiores e menores valores\r\n",
    "e calcula a média.\r\n",
    "\"\"\"\r\n",
    "\r\n",
    "def trim_mean(x, n):\r\n",
    "    \r\n",
    "    x.sort()\r\n",
    "    x = x[n:-n]\r\n",
    "    \r\n",
    "    return mean(x)\r\n",
    "\r\n",
    "lst = [1, 5, 7, 9, 14, 13, 19, 23]\r\n",
    "trim_mean(lst, 2)"
   ],
   "outputs": [
    {
     "output_type": "execute_result",
     "data": {
      "text/plain": [
       "10.75"
      ]
     },
     "metadata": {},
     "execution_count": 9
    }
   ],
   "metadata": {}
  }
 ],
 "metadata": {
  "kernelspec": {
   "name": "python3",
   "display_name": "Python 3.8.8 64-bit ('base': conda)"
  },
  "language_info": {
   "codemirror_mode": {
    "name": "ipython",
    "version": 3
   },
   "file_extension": ".py",
   "mimetype": "text/x-python",
   "name": "python",
   "nbconvert_exporter": "python",
   "pygments_lexer": "ipython3",
   "version": "3.8.8"
  },
  "interpreter": {
   "hash": "7e279da1b63a46ffd75cf03aef1cd603d07e2c884411c9c94fb0aa82f7f9cf87"
  }
 },
 "nbformat": 4,
 "nbformat_minor": 5
}