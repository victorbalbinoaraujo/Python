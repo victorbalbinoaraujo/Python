{
 "cells": [
  {
   "cell_type": "markdown",
   "id": "277977f0",
   "metadata": {},
   "source": [
    "# Estatística - Capítulo 5"
   ]
  },
  {
   "cell_type": "markdown",
   "id": "025c23cc",
   "metadata": {},
   "source": [
    "### A estatística se refere à matemática e às técnicas com as quais entedemos os dados. "
   ]
  },
  {
   "cell_type": "markdown",
   "id": "72cf5304",
   "metadata": {},
   "source": [
    "## Descrevendo um Conjunto único de dados."
   ]
  },
  {
   "cell_type": "markdown",
   "id": "aabe7c0e",
   "metadata": {},
   "source": [
    "### Não mais produzir dados, e sim, descrevê-los.\n",
    "### Estatística para destilar e comunicar os aspectos relevantes dos dados."
   ]
  },
  {
   "cell_type": "code",
   "execution_count": null,
   "id": "3509a869",
   "metadata": {},
   "outputs": [],
   "source": [
    "\"\"\"\n",
    "Primeira abordagem\n",
    "Contagem de amigos em um histograma.\n",
    "\"\"\"\n",
    "\n",
    "import numpy as np # Array com valores aleatórios.\n",
    "import matplotlib.pyplot as plt # Gráfico de barras.\n",
    "from collections import Counter # Contagem."
   ]
  },
  {
   "cell_type": "code",
   "execution_count": 134,
   "id": "c302d8b5",
   "metadata": {},
   "outputs": [
    {
     "data": {
      "text/plain": [
       "array([ 8,  7,  7, 10, 10,  3, 10,  8,  5,  4,  2,  8,  7,  8,  7,  1,  3,\n",
       "        7,  7,  3,  0,  5,  3,  8,  8,  6,  4,  6,  6,  2,  4, 10,  6,  2,\n",
       "        0,  1,  1,  3,  8,  4,  8,  7,  6,  3,  4,  8,  1,  9,  3,  0,  9,\n",
       "        8,  6,  2,  4,  8,  9,  4,  7,  4,  9,  6,  2, 10,  0,  1,  1,  6,\n",
       "        9,  6,  0,  2,  6,  4,  6,  2,  3,  3,  7,  3,  1,  2,  7,  5,  8,\n",
       "        1,  2,  7,  5,  7,  3,  6,  8,  4,  7,  6,  7,  5,  7,  8,  3,  6,\n",
       "       10,  0,  5,  9,  5,  3,  6, 10,  1, 10,  7,  1,  7,  4,  7,  5, 10,\n",
       "       10,  5,  8,  0,  2,  6,  8,  6,  5,  9,  3,  2,  5,  7,  6,  0,  3,\n",
       "        3,  7,  6,  8,  2,  3,  9,  6,  2,  9,  5,  8,  6, 10, 10,  5,  5,\n",
       "        8,  5,  6,  8,  7,  1,  7,  0,  0, 10,  6,  0,  3,  5,  1,  1,  0,\n",
       "        8,  2,  4,  7,  2,  3,  7,  8,  8, 10,  2,  3,  3,  3,  2,  0,  9,\n",
       "        3,  7,  3, 10,  0,  8,  2,  8,  4,  8,  4,  7,  7,  3,  5,  8,  7,\n",
       "       10,  0,  2,  3,  3,  7,  2,  2,  6,  9,  2,  1, 10,  0,  1,  8,  9,\n",
       "        6,  1,  9,  9,  9,  7,  5,  3, 10,  5,  9,  9,  9,  1,  4, 10,  0,\n",
       "        1,  1,  4,  5,  4,  7,  9,  1,  5,  0,  1,  2,  3,  4,  3,  1,  3,\n",
       "        6,  4,  4,  3,  1,  7,  2,  6,  5,  8,  0,  7,  3,  7,  0,  3,  4,\n",
       "        6, 10,  0,  4,  2,  1,  8,  2,  4,  5,  9,  2,  3,  4,  9,  4,  4,\n",
       "        1,  2,  1,  5,  4,  8,  9,  7,  0,  0,  0,  3,  6,  4,  9,  3,  3,\n",
       "        1,  6,  2,  8,  0,  9,  5,  9,  0,  6,  7,  0, 10,  5,  6,  6,  6,\n",
       "        4, 10,  2,  3,  2,  1,  8,  1,  7,  0,  5, 10,  3,  2,  6,  6,  7,\n",
       "        6, 10,  1,  0,  4,  5,  4,  0,  2, 10,  9,  1,  3,  4, 10,  0,  1,\n",
       "        3,  3,  8,  4,  3,  7,  2,  1, 10,  2,  8, 10,  5,  4,  6,  9,  0,\n",
       "        7,  9,  3,  5,  0,  3,  2,  3, 10,  9,  3,  3,  7,  2,  1,  4,  5,\n",
       "        0,  7,  6,  5,  2,  0,  7,  0,  7,  0,  6,  9,  0,  8,  3,  2,  2,\n",
       "        6, 10, 10,  2,  3,  8,  7,  5,  4,  7,  2,  7,  4,  2,  0,  5,  5,\n",
       "        3,  9,  2,  2,  1,  0,  5,  6,  5,  0,  7,  6,  1,  2,  6,  3,  1,\n",
       "        1,  9,  5,  6,  2, 10, 10,  4,  9,  8, 10,  2,  3,  0,  6,  1,  5,\n",
       "        7,  9,  1,  5,  3,  7,  4,  0,  7,  1,  2,  2,  2,  3,  4,  5,  5,\n",
       "        7,  7,  6,  7,  9,  3, 10,  4,  7, 10,  6, 10,  5,  9,  3, 10,  3,\n",
       "        1,  6,  2,  6,  8,  2,  8,  2,  4,  1,  7,  9,  9,  1,  0,  0, 10,\n",
       "        8,  4,  9,  5,  3,  8,  5,  6,  4,  6,  8,  3,  3,  7,  4,  9, 10,\n",
       "        3,  8,  6,  3,  5,  1,  7,  7,  7,  9,  9,  4,  1, 10,  5,  6,  0,\n",
       "        3,  3,  1,  3,  0,  3,  6,  0,  4,  8,  7,  5,  1,  3,  0,  0,  5,\n",
       "        4,  2, 10,  8,  6,  5,  6,  4,  9,  1,  6,  2,  9,  7,  3,  7,  9,\n",
       "        6,  1,  4,  1,  2,  1,  4,  5,  5,  6, 10, 10,  3,  5,  7, 10,  3,\n",
       "        2,  6,  5,  2,  9,  3,  1,  5,  2,  0,  8,  5,  5,  6,  9,  9,  3,\n",
       "        8,  4,  6,  3,  4,  4,  0,  5,  1,  6, 10,  4,  2,  9, 10,  5,  8,\n",
       "       10,  9,  1,  7,  6,  0,  9,  9,  6, 10,  5,  8,  2,  6,  1,  6,  5,\n",
       "       10,  8,  0,  6,  0,  1,  8,  9,  2,  5,  5,  3,  4,  0,  1,  5,  8,\n",
       "        3,  3,  6,  1,  6,  5,  0,  6,  5,  8,  8,  6,  1,  3,  9,  9,  0,\n",
       "        1,  5,  2,  3,  5, 10,  3,  3,  7, 10,  3,  4,  2,  9,  1,  9,  2,\n",
       "       10,  9,  5, 10,  7, 10, 10,  5,  0, 10,  7,  4,  9,  2, 10,  2,  1,\n",
       "        0,  8, 10,  5,  7,  1,  0,  3,  3,  2,  7,  5,  7,  7,  1,  0,  8,\n",
       "        8,  6,  7,  0,  8, 10,  5,  2,  8,  0,  6,  7,  5,  4,  1, 10,  2,\n",
       "        0,  0,  7,  5,  2,  6,  7,  3,  9,  2,  8,  9,  9,  2,  3,  8,  0,\n",
       "        4,  6, 10,  3,  7,  1,  0,  2,  9,  7,  6,  1,  4,  9,  6,  6,  4,\n",
       "        4, 10,  4,  4,  8,  7,  7,  6,  1,  0,  2,  3,  3,  7,  5,  7,  6,\n",
       "        8,  2,  0,  1,  7,  5,  1,  4,  0, 10,  6,  6,  5,  2,  3,  7,  2,\n",
       "        9,  1,  7,  0,  7,  0,  1,  5,  4,  6,  6,  5,  7,  5,  1,  2,  0,\n",
       "        9,  5,  3,  2,  5,  2,  8,  2,  6,  7,  5,  1,  2,  1,  5,  4,  7,\n",
       "        7,  0, 10,  9,  0,  2,  5, 10,  0,  5,  3,  8,  8,  1,  4,  4,  2,\n",
       "        7, 10,  0,  0,  0,  8,  9,  0,  2,  0,  4,  4,  8, 10,  8,  2,  1,\n",
       "        7,  3,  8,  7,  4,  4,  4,  6,  4,  5,  4,  0, 10,  8,  2,  5,  0,\n",
       "        0,  1,  3,  5, 10,  7,  6, 10,  5,  9,  9,  4,  6,  6,  9,  3,  5,\n",
       "        4,  8,  3,  7,  9,  6,  5,  9,  4,  6,  5,  7,  9,  0,  5,  4,  3,\n",
       "       10,  3,  8,  3,  5,  7,  6,  6,  3,  4,  4,  0,  0,  1,  6,  9,  0,\n",
       "        9,  9,  2,  8,  3,  2, 10,  1,  9,  2,  4,  6,  4,  1,  7,  0,  8,\n",
       "        7, 10,  3,  6,  7,  4,  1,  6,  5,  4,  4,  1,  6,  2,  7,  4,  6,\n",
       "       10,  2,  1,  3,  1,  9, 10,  0,  7,  0,  8,  8,  7,  0])"
      ]
     },
     "execution_count": 134,
     "metadata": {},
     "output_type": "execute_result"
    }
   ],
   "source": [
    "# 1000 Valores inteiros aleatórios entre 0 e 10 representando a nota de 1000 alunos em uma prova.\n",
    "notas = np.random.randint(0, 11, size=1000) \n",
    "notas"
   ]
  },
  {
   "cell_type": "code",
   "execution_count": 135,
   "id": "de93da7e",
   "metadata": {
    "scrolled": false
   },
   "outputs": [
    {
     "data": {
      "text/plain": [
       "[(0, 93),\n",
       " (1, 86),\n",
       " (2, 94),\n",
       " (3, 104),\n",
       " (4, 89),\n",
       " (5, 97),\n",
       " (6, 101),\n",
       " (7, 103),\n",
       " (8, 78),\n",
       " (9, 79),\n",
       " (10, 76)]"
      ]
     },
     "execution_count": 135,
     "metadata": {},
     "output_type": "execute_result"
    }
   ],
   "source": [
    "# Notas : Quantidade de estudantes\n",
    "notas_counts = Counter(notas)\n",
    "sorted(notas_counts.items())"
   ]
  },
  {
   "cell_type": "code",
   "execution_count": 139,
   "id": "d5451536",
   "metadata": {},
   "outputs": [],
   "source": [
    "# Notas para plot.\n",
    "xs = range(0, 11)\n",
    "\n",
    "# Alunos para plot.\n",
    "ys = [notas_counts[x] for x in xs]\n"
   ]
  },
  {
   "cell_type": "code",
   "execution_count": 142,
   "id": "2aadd48e",
   "metadata": {},
   "outputs": [
    {
     "data": {
      "image/png": "[encoded data removed]",
      "text/plain": [
       "<Figure size 432x288 with 1 Axes>"
      ]
     },
     "metadata": {
      "needs_background": "light"
     },
     "output_type": "display_data"
    }
   ],
   "source": [
    "# Gráfico de barras.\n",
    "plt.bar(xs, ys)\n",
    "plt.title('Notas dos Alunos')\n",
    "plt.xlabel('# Notas')\n",
    "plt.ylabel(\"# Alunos\")\n",
    "plt.show()"
   ]
  },
  {
   "cell_type": "code",
   "execution_count": 141,
   "id": "e99c1dd8",
   "metadata": {},
   "outputs": [],
   "source": [
    "\"\"\"\n",
    "Gerar algumas estatísticas.\n",
    "\"\"\"\n",
    "\n",
    "# Pontos nos dados.\n",
    "pts = len(notas) # 1000\n",
    "\n",
    "# Valor máximo e mínimo\n",
    "max_value = max(notas) # 10\n",
    "min_value = min(notas) # 0"
   ]
  },
  {
   "cell_type": "markdown",
   "id": "3a715273",
   "metadata": {},
   "source": [
    "## Tendências Centrais"
   ]
  },
  {
   "cell_type": "markdown",
   "id": "56b89b7c",
   "metadata": {},
   "source": [
    "### Noção de onde os dados estão centrados "
   ]
  },
  {
   "cell_type": "code",
   "execution_count": 143,
   "id": "e013592f",
   "metadata": {},
   "outputs": [
    {
     "data": {
      "text/plain": [
       "4.849"
      ]
     },
     "execution_count": 143,
     "metadata": {},
     "output_type": "execute_result"
    }
   ],
   "source": [
    "\"\"\"\n",
    "Média\n",
    "Soma dos dados dividido pela sua contagem.\n",
    "\"\"\"\n",
    "\n",
    "def mean(x):\n",
    "    return sum(x) / len(x)\n",
    "\n",
    "mean(notas"
   ]
  },
  {
   "cell_type": "code",
   "execution_count": 144,
   "id": "32c3d2cc",
   "metadata": {},
   "outputs": [
    {
     "data": {
      "text/plain": [
       "5.0"
      ]
     },
     "execution_count": 144,
     "metadata": {},
     "output_type": "execute_result"
    }
   ],
   "source": [
    "\"\"\"\n",
    "Mediana\n",
    "Valor do meio se for ímpar\n",
    "Média dos dois valores que estiverem no meio se for par\n",
    "\n",
    "Por exemplo uma amostra com 10 valores:\n",
    "[1, 2, 3, 4, 5, 6, 7, 8, 9, 10]\n",
    "\n",
    "midpoint = 10 // 2 = 5\n",
    "\n",
    "low = 4\n",
    "high = 5\n",
    "\n",
    "return (5 + 6) / 2 = 5.5 \n",
    "\n",
    "Lembrete: É o ÍNDICE(!!!) de low e high e NÃO seus VALORES!\n",
    "\"\"\"\n",
    "\n",
    "def median(x):\n",
    "    pts = len(x)\n",
    "    s = sorted(x)\n",
    "    \n",
    "    midpoint = pts // 2\n",
    "    \n",
    "    if midpoint % 2 == 1:\n",
    "        return s[midpoint]\n",
    "    \n",
    "    else:\n",
    "        low = midpoint - 1\n",
    "        high = midpoint\n",
    "        \n",
    "        return (s[low] + s[high]) / 2\n",
    "\n",
    "median(notas) "
   ]
  },
  {
   "cell_type": "code",
   "execution_count": null,
   "id": "3fd03b72",
   "metadata": {},
   "outputs": [],
   "source": []
  }
 ],
 "metadata": {
  "kernelspec": {
   "display_name": "Python 3",
   "language": "python",
   "name": "python3"
  },
  "language_info": {
   "codemirror_mode": {
    "name": "ipython",
    "version": 3
   },
   "file_extension": ".py",
   "mimetype": "text/x-python",
   "name": "python",
   "nbconvert_exporter": "python",
   "pygments_lexer": "ipython3",
   "version": "3.8.8"
  }
 },
 "nbformat": 4,
 "nbformat_minor": 5
}
