{
 "cells": [
  {
   "cell_type": "markdown",
   "id": "72294c3c",
   "metadata": {},
   "source": [
    "# Estatística - Capítulo 5"
   ]
  },
  {
   "cell_type": "markdown",
   "id": "eb6e3380",
   "metadata": {},
   "source": [
    "### A estatística se refere à matemática e às técnicas com as quais entedemos os dados. "
   ]
  },
  {
   "cell_type": "markdown",
   "id": "621e8a99",
   "metadata": {},
   "source": [
    "## Descrevendo um Conjunto único de dados."
   ]
  },
  {
   "cell_type": "markdown",
   "id": "139203e4",
   "metadata": {},
   "source": [
    "### Não mais produzir dados, e sim, descrevê-los.\n",
    "### Estatística para destilar e comunicar os aspectos relevantes dos dados."
   ]
  },
  {
   "cell_type": "code",
   "execution_count": 8,
   "id": "744014ee",
   "metadata": {},
   "outputs": [],
   "source": [
    "\"\"\"\n",
    "Primeira abordagem\n",
    "Contagem de amigos em um histograma.\n",
    "\"\"\"\n",
    "\n",
    "import numpy as np # Array com valores aleatórios.\n",
    "import matplotlib.pyplot as plt # Gráfico de barras.\n",
    "\n",
    "from collections import Counter # Contagem."
   ]
  },
  {
   "cell_type": "code",
   "execution_count": 177,
   "id": "b71a69d4",
   "metadata": {},
   "outputs": [
    {
     "data": {
      "text/plain": [
       "array([ 4,  1,  0,  8, 10,  5,  8,  9,  7,  3, 10,  9,  0,  1,  3,  9,  0,\n",
       "        9, 10,  0,  6,  4,  2,  6,  2,  1,  4,  8,  2,  0,  2,  0,  1,  5,\n",
       "        3,  2,  1,  5,  9,  3,  0,  5,  0,  5,  0,  6,  2,  2,  9,  1,  9,\n",
       "       10,  3,  7, 10,  3, 10,  1,  0,  7,  8, 10,  8,  3,  2,  7,  8,  4,\n",
       "        9,  4,  5,  9, 10,  4,  0, 10,  3,  1,  2,  6,  4,  5,  5,  7,  5,\n",
       "        3,  7,  1, 10,  5,  0,  8,  6,  1,  2, 10,  7,  8,  5, 10,  4,  3,\n",
       "        5,  6,  7,  6,  1, 10,  0,  8,  8,  8,  9,  5,  8,  6,  1, 10,  7,\n",
       "        7,  6,  5,  6, 10,  2,  3,  3,  8,  3,  8,  8,  0,  7, 10, 10,  3,\n",
       "        5,  3,  4,  9,  5,  9,  0,  7,  4,  2,  4,  2,  7,  6, 10,  1,  4,\n",
       "        4,  2,  7,  4,  1,  0,  1,  7,  5,  8,  1,  8,  4,  7,  2, 10,  5,\n",
       "        8,  3,  4,  6,  1,  8,  7,  7,  8,  3,  4,  4,  3,  1,  1,  6,  6,\n",
       "        8,  5,  9,  0, 10,  4,  1,  6,  8,  7,  5,  4,  1,  3, 10,  0,  8,\n",
       "        7,  8,  4,  0,  1,  4,  0,  0,  9,  8,  6,  2,  1,  9,  1, 10,  1,\n",
       "       10,  3,  1,  9,  4,  1,  6,  0, 10,  3,  0,  8, 10, 10,  9,  3,  0,\n",
       "        9, 10,  5,  8, 10,  3,  7,  3,  1,  8,  4,  7,  5,  6,  0,  0,  4,\n",
       "       10,  2,  2,  3,  7,  3,  5,  2,  6,  3,  3,  5,  8,  0,  0,  1,  4,\n",
       "        3,  6,  6,  3,  3,  5,  4, 10,  2,  4,  9,  8,  0,  6,  2,  5,  9,\n",
       "        2,  5,  3,  3,  3,  2,  9,  5,  9, 10,  4,  0,  2,  0,  8,  9,  6,\n",
       "        7,  3, 10,  0,  2,  3,  4,  2,  9,  9,  8,  7,  5,  6,  6,  9,  3,\n",
       "        9,  3,  7,  5,  4,  6,  3,  9,  6,  2, 10,  9,  6, 10,  1,  7,  3,\n",
       "        9,  7,  9,  9,  1,  5,  0,  0,  8,  0,  0,  3,  5, 10,  8,  1,  5,\n",
       "        3,  7, 10,  6, 10,  3,  7,  3,  5,  4,  4,  9,  5,  2,  1,  7, 10,\n",
       "        5,  9, 10,  6,  8,  9,  7,  4,  4,  3, 10, 10,  1,  3,  7,  6,  1,\n",
       "        2,  9,  8,  2,  9,  9, 10,  1,  1,  1,  9,  9,  2,  8,  0,  9,  7,\n",
       "        5,  7,  0,  0,  8,  6,  2,  2,  0,  5,  4,  2,  2,  7,  9,  2,  2,\n",
       "        5,  4,  5, 10,  8,  7, 10,  1,  1,  9, 10,  9,  6,  7,  0,  1,  9,\n",
       "        5,  5,  9,  6,  5,  1,  0,  5,  0,  5,  1,  0,  3,  7,  4,  3,  0,\n",
       "       10,  3,  1,  6,  5,  2,  5,  1,  9,  4,  4,  7,  3,  1, 10,  5,  2,\n",
       "        7,  1,  5,  9,  3,  1,  9,  1,  3,  0,  0,  9,  5,  7,  4,  0,  7,\n",
       "        6,  0,  3,  5,  2,  5,  1,  2, 10,  3,  7,  9,  1,  7,  8, 10,  9,\n",
       "        1,  2,  8, 10,  8,  8,  4,  5,  3,  6,  5,  4, 10,  1,  9,  6, 10,\n",
       "        6,  7,  0,  5,  1,  2,  0,  0,  2,  3,  0,  4,  1,  5,  8,  0,  6,\n",
       "        8,  5,  5,  0, 10,  7,  7,  3,  9,  7,  3,  9,  7,  8,  1,  5,  7,\n",
       "        8,  9,  5,  5,  3,  7,  3, 10,  5,  6,  7,  2,  8,  9,  3,  5,  8,\n",
       "        2,  2, 10,  5,  3,  7,  0,  5,  4,  7,  5,  3,  8,  5,  1,  9,  9,\n",
       "        5,  9, 10, 10,  1,  1,  7,  4, 10,  3,  9,  4,  2,  5,  2,  6,  2,\n",
       "        6,  1, 10,  5,  8,  2,  3,  8,  6,  8,  9,  7,  4,  2,  9,  3, 10,\n",
       "        1, 10,  9,  4,  9,  1,  9,  8,  1,  1,  9,  1,  2,  3, 10,  9,  6,\n",
       "        4, 10,  6, 10,  5,  1,  6,  4,  8,  9,  6,  7,  6,  9,  0, 10, 10,\n",
       "       10,  6,  6,  2,  6,  5, 10,  9,  5,  1,  3,  9,  5,  0,  7,  2,  5,\n",
       "        8,  4,  0,  5,  0,  7,  5,  8,  4,  8,  7, 10,  0,  4,  7,  7, 10,\n",
       "        3,  2,  7,  1,  3,  8,  5, 10,  1,  7,  2,  6,  2,  4,  1,  2,  4,\n",
       "        0,  3,  0,  1,  4,  1,  7, 10,  1,  6,  7,  4,  9, 10, 10, 10,  5,\n",
       "        6,  5,  8,  4, 10, 10,  0,  1,  1,  3,  9,  0,  1,  3,  0,  0,  9,\n",
       "        1, 10,  8,  2,  2,  7,  1,  2,  4,  1,  0,  7,  3, 10,  0,  2,  3,\n",
       "        6,  6,  8,  7,  5,  3, 10,  7,  0,  4,  4, 10,  2,  1,  7,  3,  0,\n",
       "        4,  5,  9,  5,  4,  9,  4,  2,  8,  2,  9,  3,  9,  2,  2,  5,  0,\n",
       "        0,  6,  8,  2,  3,  8,  2,  3,  1, 10,  3, 10,  0,  2,  8,  4,  0,\n",
       "       10,  2,  2,  1,  8,  1,  1,  6,  7,  7, 10,  3,  0,  8,  5,  0,  8,\n",
       "        1,  4, 10,  5,  4,  1,  9,  1,  1,  2,  5,  1, 10,  3,  0,  8, 10,\n",
       "        8,  5, 10,  4,  1,  5,  0,  8,  6,  5,  8,  6,  9,  5,  5,  1,  7,\n",
       "        1,  4,  1,  3,  7,  3,  3,  7,  0,  3,  6,  5,  1,  7,  9, 10,  2,\n",
       "        5,  2,  8,  6,  0,  0,  9,  5,  5,  3,  1,  9,  0,  4,  7,  0,  5,\n",
       "        3,  5,  1,  6,  9,  0, 10,  9,  1,  5,  9,  1, 10,  7,  2,  9,  8,\n",
       "        3,  2,  0,  8,  4,  4,  7,  8,  7,  1,  8,  9,  1,  4, 10,  7,  9,\n",
       "       10,  3,  5,  1,  6,  0,  0,  0, 10,  6,  6, 10,  3,  7,  5,  3,  6,\n",
       "        9,  7,  8,  2,  3,  5,  1,  4,  1,  0,  1,  4, 10,  0,  0,  9,  9,\n",
       "        5,  0,  5,  4,  9,  9,  6,  6,  5,  0,  3,  1,  4,  5,  9,  1, 10,\n",
       "        4,  5,  4,  5,  8,  5,  5,  9,  0,  8, 10,  9,  6,  5])"
      ]
     },
     "execution_count": 177,
     "metadata": {},
     "output_type": "execute_result"
    }
   ],
   "source": [
    "# 1000 Valores inteiros aleatórios entre 0 e 10 representando a nota de 1000 alunos em uma prova.\n",
    "notas = np.random.randint(0, 11, size=1000) \n",
    "notas"
   ]
  },
  {
   "cell_type": "code",
   "execution_count": 178,
   "id": "c7d5113a",
   "metadata": {
    "scrolled": false
   },
   "outputs": [
    {
     "data": {
      "text/plain": [
       "[(0, 95),\n",
       " (1, 106),\n",
       " (2, 79),\n",
       " (3, 95),\n",
       " (4, 80),\n",
       " (5, 111),\n",
       " (6, 71),\n",
       " (7, 85),\n",
       " (8, 81),\n",
       " (9, 98),\n",
       " (10, 99)]"
      ]
     },
     "execution_count": 178,
     "metadata": {},
     "output_type": "execute_result"
    }
   ],
   "source": [
    "# Notas : Quantidade de estudantes\n",
    "notas_counts = Counter(notas)\n",
    "sorted(notas_counts.items())"
   ]
  },
  {
   "cell_type": "code",
   "execution_count": 179,
   "id": "b8b7065e",
   "metadata": {},
   "outputs": [],
   "source": [
    "# Notas para plot.\n",
    "xs = range(0, 11)\n",
    "\n",
    "# Alunos para plot.\n",
    "ys = [notas_counts[x] for x in xs]\n"
   ]
  },
  {
   "cell_type": "code",
   "execution_count": 180,
   "id": "2cc5a5cd",
   "metadata": {},
   "outputs": [
    {
     "data": {
      "image/png": "[encoded data removed]",
      "text/plain": [
       "<Figure size 432x288 with 1 Axes>"
      ]
     },
     "metadata": {
      "needs_background": "light"
     },
     "output_type": "display_data"
    }
   ],
   "source": [
    "# Gráfico de barras.\n",
    "plt.bar(xs, ys)\n",
    "plt.title('Notas dos Alunos')\n",
    "plt.xlabel('# Notas')\n",
    "plt.ylabel(\"# Alunos\")\n",
    "plt.show()"
   ]
  },
  {
   "cell_type": "code",
   "execution_count": 181,
   "id": "b453992c",
   "metadata": {},
   "outputs": [],
   "source": [
    "\"\"\"\n",
    "Gerar algumas estatísticas.\n",
    "\"\"\"\n",
    "\n",
    "# Pontos nos dados.\n",
    "pts = len(notas) # 1000\n",
    "\n",
    "# Valor máximo e mínimo\n",
    "max_value = max(notas) # 10\n",
    "min_value = min(notas) # 0"
   ]
  },
  {
   "cell_type": "markdown",
   "id": "22092974",
   "metadata": {},
   "source": [
    "## Tendências Centrais"
   ]
  },
  {
   "cell_type": "markdown",
   "id": "e0673957",
   "metadata": {},
   "source": [
    "### Noção de onde os dados estão centrados "
   ]
  },
  {
   "cell_type": "code",
   "execution_count": 182,
   "id": "c451ca38",
   "metadata": {},
   "outputs": [
    {
     "data": {
      "text/plain": [
       "4.965"
      ]
     },
     "execution_count": 182,
     "metadata": {},
     "output_type": "execute_result"
    }
   ],
   "source": [
    "\"\"\"\n",
    "Média\n",
    "Soma dos dados dividido pela sua contagem.\n",
    "\"\"\"\n",
    "\n",
    "def mean(x):\n",
    "    return sum(x) / len(x)\n",
    "\n",
    "mean(notas)"
   ]
  },
  {
   "cell_type": "code",
   "execution_count": 183,
   "id": "fafc2fe8",
   "metadata": {},
   "outputs": [
    {
     "data": {
      "text/plain": [
       "5.0"
      ]
     },
     "execution_count": 183,
     "metadata": {},
     "output_type": "execute_result"
    }
   ],
   "source": [
    "\"\"\"\n",
    "Mediana\n",
    "Valor do meio se for ímpar\n",
    "Média dos dois valores que estiverem no meio se for par\n",
    "\n",
    "Por exemplo uma amostra com 10 valores:\n",
    "[1, 2, 3, 4, 5, 6, 7, 8, 9, 10]\n",
    "\n",
    "midpoint = 10 // 2 = 5\n",
    "\n",
    "low = 4\n",
    "high = 5\n",
    "\n",
    "return (5 + 6) / 2 = 5.5 \n",
    "\n",
    "Lembrete: É o ÍNDICE(!!!) de low e high e NÃO seus VALORES!\n",
    "\"\"\"\n",
    "\n",
    "def median(x):\n",
    "    pts = len(x)\n",
    "    s = sorted(x)\n",
    "    \n",
    "    midpoint = pts // 2\n",
    "    \n",
    "    if midpoint % 2 == 1:\n",
    "        return s[midpoint]\n",
    "    \n",
    "    else:\n",
    "        low = midpoint - 1\n",
    "        high = midpoint\n",
    "        \n",
    "        return (s[low] + s[high]) / 2\n",
    "\n",
    "median(notas) "
   ]
  },
  {
   "cell_type": "code",
   "execution_count": 184,
   "id": "263a1592",
   "metadata": {},
   "outputs": [
    {
     "data": {
      "text/plain": [
       "10.75"
      ]
     },
     "execution_count": 184,
     "metadata": {},
     "output_type": "execute_result"
    }
   ],
   "source": [
    "\"\"\"\n",
    "Média aparada\n",
    "Remove os n maiores e menores valores\n",
    "e calcula a média.\n",
    "\"\"\"\n",
    "\n",
    "def trim_mean(x, n):\n",
    "    \n",
    "    x.sort()\n",
    "    x = x[n:-n]\n",
    "    \n",
    "    return mean(x)\n",
    "\n",
    "lst = [1, 5, 7, 9, 14, 13, 19, 23]\n",
    "trim_mean(lst, 2)"
   ]
  },
  {
   "cell_type": "code",
   "execution_count": 185,
   "id": "1a578d74",
   "metadata": {},
   "outputs": [
    {
     "name": "stdout",
     "output_type": "stream",
     "text": [
      "[ 34  48  57  71  61  98  16  96  55  48  86  45  85  46  70 100  44  89\n",
      "  83  65  71  37  28  61  79  72  40  17  52  98  60  46  96  15  99  37\n",
      "  64  71  27  22  77  11  42  62  66  10  38  96  19  82  41  71  42  18\n",
      "  70  22  68  71  43  94  42  91  91  78  91  25  59  92  59  12  45  84\n",
      "   1   3  44  31   7  19  78   2  50  48   7  90  50  21  91  28  54  80\n",
      "  49  40  67  21 100  86  80  61  38  76  93  43  72  12  76  90  15  34\n",
      "  46  25  66  69  49  97  55  12  61  52   7  49  65  93  29  27  51  49\n",
      "  37  34  59   3  57  13  65  27  40  75  89   0  91  83 100  98  93  25\n",
      "  12  99 100  64   4  75  54  38  59  50  79  15  69  34  44  19  75  93\n",
      "  40  72   0   4  59  65  96  64   5  97  56  98  19   5  27  40  25  11\n",
      "   0 100  33  14  96   8   0  46  70  37  94  92  13  37  20  82  76  87\n",
      "  48  44  15  66   4  11  24  84  69   3  84  82  84  55  75  57  95  20\n",
      "  87  89   9  81  75  57  33   4  41   3   1  32   0  85  77  24  98  18\n",
      "  53  81  79  94  76  45  84  82  53  62  10  77  23  62  49  60]\n",
      "11\n",
      "27\n",
      "37\n",
      "79\n",
      "93\n"
     ]
    }
   ],
   "source": [
    "\"\"\"\n",
    "Quantil\n",
    "Generalização da média\n",
    "Representa o valor abaixo\n",
    "do qual a uma certa porcentagem\n",
    "dos dados se encontra\n",
    "Quantil 50% = Mediana.\n",
    "\"\"\"\n",
    "\n",
    "def quantile(x, p):\n",
    "    \n",
    "    p_idx = int(p * len(x))\n",
    "    \n",
    "    return sorted(x)[p_idx]\n",
    "\n",
    "lst = np.random.randint(0, 101, size=250)\n",
    "print(lst)\n",
    "\n",
    "print(quantile(lst, 0.10))\n",
    "print(quantile(lst, 0.25))\n",
    "print(quantile(lst, 0.30))\n",
    "print(quantile(lst, 0.75))\n",
    "print(quantile(lst, 0.90))"
   ]
  },
  {
   "cell_type": "code",
   "execution_count": 186,
   "id": "082e4115",
   "metadata": {},
   "outputs": [
    {
     "data": {
      "text/plain": [
       "([71, 98, 96, 100, 37, 40, 91, 59, 84, 49, 75, 0], 5)"
      ]
     },
     "execution_count": 186,
     "metadata": {},
     "output_type": "execute_result"
    }
   ],
   "source": [
    "\"\"\"\n",
    "Moda\n",
    "Retorna o(s) valor(es) mais frequentes\n",
    "em um conjunto de dados.\n",
    "\"\"\"\n",
    "\n",
    "def mode(x):\n",
    "    counts = Counter(x)\n",
    "    \n",
    "    max_count = max(counts.values())\n",
    "    return [x_i for x_i, count in counts.items() if count == max_count], max_count\n",
    "\n",
    "mode(lst)"
   ]
  },
  {
   "cell_type": "markdown",
   "id": "b28be7fb",
   "metadata": {},
   "source": [
    "## Dispersão"
   ]
  },
  {
   "cell_type": "markdown",
   "id": "60eee5ce",
   "metadata": {},
   "source": [
    "### Refere-se à medida de como os dados estão espalhados"
   ]
  },
  {
   "cell_type": "code",
   "execution_count": 187,
   "id": "cb83d1d2",
   "metadata": {},
   "outputs": [
    {
     "name": "stdout",
     "output_type": "stream",
     "text": [
      "[760, 764, 766, 765, 768, 762, 761, 766, 762, 762, 769, 763, 761, 761, 769, 762, 764]\n"
     ]
    },
    {
     "data": {
      "text/plain": [
       "9"
      ]
     },
     "execution_count": 187,
     "metadata": {},
     "output_type": "execute_result"
    }
   ],
   "source": [
    "\"\"\"\n",
    "Amplitude\n",
    "Diferença entre o maior e o menor valor do conjunto\n",
    "de dados\n",
    "\n",
    "A amplitude é 0 quando os dados estão os menos dispersos possíveis\n",
    "Por outro lado, se a amplitude é ampla, os dados estão bem espalhados.\n",
    "\"\"\"\n",
    "\n",
    "def data_range(x):\n",
    "    return max(x) - min(x)\n",
    "\n",
    "\n",
    "lst = [760, 764, 766, 765, 768, 762, 761, 766, 762, 762, 769, 763, 761, 761, 769, 762, 764]\n",
    "print(lst)\n",
    "data_range(lst)\n",
    "\n"
   ]
  },
  {
   "cell_type": "code",
   "execution_count": 1,
   "id": "b5fea326",
   "metadata": {},
   "outputs": [
    {
     "data": {
      "text/plain": [
       "2.449489742783178"
      ]
     },
     "execution_count": 1,
     "metadata": {},
     "output_type": "execute_result"
    }
   ],
   "source": [
    "\"\"\"\n",
    "Variância\n",
    "\n",
    "A Variância serve para mostrar o quão longe \n",
    "os dados estão da média.\n",
    "\n",
    "Desvio Padrão POPULACIONAL!\n",
    "\n",
    "O Desvio Padrão serve para mostrar o \"erro\"\n",
    "de substituir cada elemento de um conjunto\n",
    "de dados pela média.\n",
    "\"\"\"\n",
    "\n",
    "from Formulas import *\n",
    "\n",
    "def variance(x):\n",
    "    \n",
    "    n = len(x) # número de elementos.\n",
    "    deviations = de_mean(x) # Lista com os x1, x2, ..., xn.\n",
    "    return sum_of_squares(deviations) / n # Realizar a soma de x1, x2, ..., xn ao quadrado e dividir por n.\n",
    "\n",
    "\n",
    "def standard_deviation(x):\n",
    "    return sqrt(variance(x))\n",
    "\n",
    "standard_deviation([8, 6, 6, 12])\n"
   ]
  },
  {
   "cell_type": "code",
   "execution_count": 12,
   "id": "b3da84a3",
   "metadata": {},
   "outputs": [
    {
     "data": {
      "text/plain": [
       "2.0"
      ]
     },
     "execution_count": 12,
     "metadata": {},
     "output_type": "execute_result"
    }
   ],
   "source": [
    "\"\"\"\n",
    "Desvio Médio Absoluto\n",
    "Diferença média absoluta \n",
    "em que os elementos se encontram \n",
    "da média.\n",
    "\"\"\"\n",
    "\n",
    "from Formulas import *\n",
    "\n",
    "def median_absolute_deviation(x):\n",
    "    \n",
    "    deviations = de_mean(x) # Desvio.\n",
    "    x = [abs(x_i) for x_i in deviations] # Dados absolutos.\n",
    "    \n",
    "    return sum(x) / len(x) # Média absoluta.\n",
    "\n",
    "lst = [2, 5, 6, 7, 10]\n",
    "median_absolute_deviation(lst)"
   ]
  },
  {
   "cell_type": "code",
   "execution_count": 2,
   "id": "07f51eb3",
   "metadata": {},
   "outputs": [
    {
     "data": {
      "text/plain": [
       "1.224744871391589"
      ]
     },
     "execution_count": 2,
     "metadata": {},
     "output_type": "execute_result"
    }
   ],
   "source": [
    "\"\"\"\n",
    "Erro Padrão\n",
    "Medida de variação\n",
    "de uma média amostral\n",
    "em relação a média da população.\n",
    "\n",
    "Basta dividir o desvio padrão pela\n",
    "raiz quadrada do tamanho amostral.\n",
    "\"\"\"\n",
    "\n",
    "from Formulas import *\n",
    "\n",
    "def standard_error(x):\n",
    "    return standard_deviation(x) / sqrt(len(x))\n",
    "\n",
    "\n",
    "standard_error([8, 6, 6, 12])    "
   ]
  }
 ],
 "metadata": {
  "interpreter": {
   "hash": "7e279da1b63a46ffd75cf03aef1cd603d07e2c884411c9c94fb0aa82f7f9cf87"
  },
  "kernelspec": {
   "display_name": "Python 3",
   "language": "python",
   "name": "python3"
  },
  "language_info": {
   "codemirror_mode": {
    "name": "ipython",
    "version": 3
   },
   "file_extension": ".py",
   "mimetype": "text/x-python",
   "name": "python",
   "nbconvert_exporter": "python",
   "pygments_lexer": "ipython3",
   "version": "3.8.8"
  }
 },
 "nbformat": 4,
 "nbformat_minor": 5
}
