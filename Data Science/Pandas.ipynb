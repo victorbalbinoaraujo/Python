{
 "cells": [
  {
   "cell_type": "markdown",
   "source": [
    "# Basic"
   ],
   "metadata": {}
  },
  {
   "cell_type": "code",
   "execution_count": null,
   "source": [
    "import pandas as pd"
   ],
   "outputs": [],
   "metadata": {}
  },
  {
   "cell_type": "code",
   "execution_count": null,
   "source": [
    "alunos = {\r\n",
    "    'Nome' : ['Alex', 'Bárbara', 'Claúdio', 'Douglas', 'Eduarda', 'Fernanda'],\r\n",
    "    'Nota' : [3.0, 6.6, 2.7, 7.1, 5.4, 8.2],\r\n",
    "    'Aprovado' : ['Não', 'Sim', 'Não', 'Sim', 'Não', 'Sim']\r\n",
    "}"
   ],
   "outputs": [],
   "metadata": {}
  },
  {
   "cell_type": "code",
   "execution_count": null,
   "source": [
    "\"\"\"\r\n",
    "Transformar o dicionário em um Data Frame\r\n",
    "\"\"\"\r\n",
    "\r\n",
    "df = pd.DataFrame(alunos)\r\n",
    "df"
   ],
   "outputs": [],
   "metadata": {}
  },
  {
   "cell_type": "code",
   "execution_count": null,
   "source": [
    "\"\"\"\r\n",
    "Series\r\n",
    "Cria um Data Frame a partir de um vetor unidimensional\r\n",
    "'Data frame de uma coluna só'\r\n",
    "\"\"\"\r\n",
    "\r\n",
    "obj = pd.Series([2, 1, 5, 2, 6])\r\n",
    "obj "
   ],
   "outputs": [],
   "metadata": {}
  },
  {
   "cell_type": "code",
   "execution_count": null,
   "source": [
    "import numpy as np\r\n",
    "\r\n",
    "arr = np.array([(1, 2, 3, 4), (5, 6, 7, 8)])\r\n",
    "\r\n",
    "# obj = pd.Series(arr) \r\n",
    "# obj # ValueError: Data must be 1-dimensional"
   ],
   "outputs": [],
   "metadata": {}
  },
  {
   "cell_type": "markdown",
   "source": [
    "# Loading Data"
   ],
   "metadata": {}
  },
  {
   "cell_type": "code",
   "execution_count": null,
   "source": [
    "pokemon = pd.read_csv('../../CSV Files/pokemon.csv')\r\n",
    "\r\n",
    "pokemon"
   ],
   "outputs": [],
   "metadata": {}
  },
  {
   "cell_type": "markdown",
   "source": [
    "# Reading Data"
   ],
   "metadata": {}
  },
  {
   "cell_type": "code",
   "execution_count": null,
   "source": [
    "\"\"\"\r\n",
    "Read Headers\r\n",
    "\"\"\"\r\n",
    "pokemon.columns\r\n",
    "\r\n",
    "\"\"\"\r\n",
    "Read each column\r\n",
    "\"\"\"\r\n",
    "pokemon.Name\r\n",
    "pokemon['Name'][0:13] # Kanto initials and their (mega) evolutions\r\n",
    "pokemon[['Name', 'Type 1', 'Type 2']]\r\n",
    "\r\n",
    "\"\"\"\r\n",
    "Read each row\r\n",
    "\"\"\"\r\n",
    "pokemon.iloc[6] # Charizard all data\r\n",
    "pokemon.iloc[10:20] # Wartortle -> Mega Beedril all data\r\n",
    "\r\n",
    "for index, row in pokemon.iterrows():\r\n",
    "    index, row['Name']\r\n",
    "\r\n",
    "\"\"\"\r\n",
    "Read specific location(row, column)\r\n",
    "\"\"\"\r\n",
    "pokemon.iloc[232, 1] # Mega Heracross name only\r\n",
    "pokemon.loc[(pokemon['Type 1'] == 'Fire') | (pokemon['Type 2'] == 'Fire')]['Name'] # Name all fire type pokémon\r\n",
    "\r\n"
   ],
   "outputs": [],
   "metadata": {}
  },
  {
   "cell_type": "markdown",
   "source": [
    "# Describing Data"
   ],
   "metadata": {}
  },
  {
   "cell_type": "code",
   "execution_count": null,
   "source": [
    "pokemon.describe()"
   ],
   "outputs": [],
   "metadata": {}
  },
  {
   "cell_type": "markdown",
   "source": [
    "# Sorting Values"
   ],
   "metadata": {}
  },
  {
   "cell_type": "code",
   "execution_count": null,
   "source": [
    "pokemon.sort_values('HP', ascending=False)\r\n",
    "pokemon.sort_values(['Speed', 'Attack'], ascending=False)\r\n",
    "pokemon.sort_values(['Defense', 'Sp. Def'], ascending=[1, 0])"
   ],
   "outputs": [],
   "metadata": {}
  },
  {
   "cell_type": "code",
   "execution_count": null,
   "source": [
    "pokemon[['Name', 'Attack', 'Speed']].loc[(pokemon['Attack'] >= 100) & (pokemon['Speed'] >= 100)].sort_values(['Attack', 'Speed'], ascending=False)"
   ],
   "outputs": [],
   "metadata": {}
  },
  {
   "cell_type": "code",
   "execution_count": null,
   "source": [
    "pokemon[['Name', 'Sp. Atk', 'Speed']].loc[(pokemon['Sp. Atk'] >= 100) & (pokemon['Speed'] >= 100)].sort_values(['Sp. Atk', 'Speed'], ascending=False)"
   ],
   "outputs": [],
   "metadata": {}
  },
  {
   "cell_type": "markdown",
   "source": [
    "# Making Changes"
   ],
   "metadata": {}
  },
  {
   "cell_type": "code",
   "execution_count": null,
   "source": [
    "pokemon = pokemon.rename(columns={\r\n",
    "    'Sp. Atk' : 'SpAtk',\r\n",
    "    'Sp. Def' : 'SpDef'\r\n",
    "}, inplace= False)\r\n",
    "\r\n",
    "\r\n",
    "pokemon['Total'] = pokemon.iloc[:, 4:10].sum(axis=1)\r\n",
    "pokemon"
   ],
   "outputs": [],
   "metadata": {}
  },
  {
   "cell_type": "code",
   "execution_count": null,
   "source": [
    "pokemon.sort_values('Total', ascending=False)"
   ],
   "outputs": [],
   "metadata": {}
  },
  {
   "cell_type": "code",
   "execution_count": null,
   "source": [
    "pokemon = pokemon.drop(['Generation', 'Legendary'], axis=1)\r\n",
    "pokemon"
   ],
   "outputs": [],
   "metadata": {}
  },
  {
   "cell_type": "code",
   "execution_count": null,
   "source": [
    "pokemon = pokemon.replace(float('nan'), '-')\r\n",
    "pokemon"
   ],
   "outputs": [],
   "metadata": {}
  },
  {
   "cell_type": "markdown",
   "source": [
    "# Saving Data Frame back to CSV"
   ],
   "metadata": {}
  },
  {
   "cell_type": "code",
   "execution_count": null,
   "source": [
    "pokemon.to_csv('pokemon_modified.csv', index=False)"
   ],
   "outputs": [],
   "metadata": {}
  },
  {
   "cell_type": "markdown",
   "source": [
    "# Filtering Data"
   ],
   "metadata": {}
  },
  {
   "cell_type": "code",
   "execution_count": null,
   "source": [
    "pokemon.loc[pokemon['Name'].str.contains('Mega')] # All megas"
   ],
   "outputs": [],
   "metadata": {}
  },
  {
   "cell_type": "code",
   "execution_count": null,
   "source": [
    "pokemon.loc[~pokemon['Name'].str.contains('Mega')] # All non-megas"
   ],
   "outputs": [],
   "metadata": {}
  },
  {
   "cell_type": "code",
   "execution_count": null,
   "source": [
    "import re\r\n",
    "\r\n",
    "pokemon.loc[pokemon['Type 1'].str.contains('fire|grass', flags=re.I, regex=True)] # Pokemon that are Fire or Grass in Type 1"
   ],
   "outputs": [],
   "metadata": {}
  },
  {
   "cell_type": "code",
   "execution_count": null,
   "source": [
    "pokemon.loc[pokemon['Name'].str.contains('^vic[a-z]*', flags=re.I, regex=True)] # Pokémon names that starts with 'vic'"
   ],
   "outputs": [],
   "metadata": {}
  },
  {
   "cell_type": "markdown",
   "source": [
    "# GroupBy"
   ],
   "metadata": {}
  },
  {
   "cell_type": "code",
   "execution_count": null,
   "source": [
    "pokemon[['Type 1', 'Speed']].groupby(['Type 1']).mean().sort_values('Speed', ascending=False)"
   ],
   "outputs": [],
   "metadata": {}
  }
 ],
 "metadata": {
  "orig_nbformat": 4,
  "language_info": {
   "name": "python",
   "version": "3.9.6",
   "mimetype": "text/x-python",
   "codemirror_mode": {
    "name": "ipython",
    "version": 3
   },
   "pygments_lexer": "ipython3",
   "nbconvert_exporter": "python",
   "file_extension": ".py"
  },
  "kernelspec": {
   "name": "python3",
   "display_name": "Python 3.9.6 64-bit"
  },
  "interpreter": {
   "hash": "b2a6f09527545e370935e82da67d9200a6ba8ae5f29d2a729dc4524a539d679f"
  }
 },
 "nbformat": 4,
 "nbformat_minor": 2
}