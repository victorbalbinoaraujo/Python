{
 "cells": [
  {
   "cell_type": "code",
   "execution_count": null,
   "source": [
    "class Livro():\r\n",
    "    \r\n",
    "    def __init__(self, titulo, paginas, autor):\r\n",
    "        \r\n",
    "        self.titulo = titulo\r\n",
    "        self.paginas = paginas\r\n",
    "        self.autor = autor\r\n",
    "\r\n",
    "    def titulo_livro(self):\r\n",
    "            print(f\"Título do livro: {self.titulo}\")\r\n",
    "        \r\n",
    "    def nome_autor(self):\r\n",
    "            print(f\"O(a) autor(a) deste livro é {self.autor}.\")\r\n",
    "        \r\n",
    "    def qtd_paginas(self):\r\n",
    "            print(f\"Este livro tem {self.paginas} páginas.\")"
   ],
   "outputs": [],
   "metadata": {}
  },
  {
   "cell_type": "code",
   "execution_count": null,
   "source": [
    "livro_1 = Livro(\"A Carta Roubada e outras histórias de crime e mistério\", 208, \"Edgar Allan Poe\")\r\n",
    "\r\n",
    "livro_1.titulo_livro()\r\n",
    "livro_1.nome_autor()\r\n",
    "livro_1.qtd_paginas()"
   ],
   "outputs": [],
   "metadata": {}
  }
 ],
 "metadata": {
  "orig_nbformat": 4,
  "language_info": {
   "name": "python",
   "version": "3.9.6",
   "mimetype": "text/x-python",
   "codemirror_mode": {
    "name": "ipython",
    "version": 3
   },
   "pygments_lexer": "ipython3",
   "nbconvert_exporter": "python",
   "file_extension": ".py"
  },
  "kernelspec": {
   "name": "python3",
   "display_name": "Python 3.9.6 64-bit"
  },
  "interpreter": {
   "hash": "b2a6f09527545e370935e82da67d9200a6ba8ae5f29d2a729dc4524a539d679f"
  }
 },
 "nbformat": 4,
 "nbformat_minor": 2
}