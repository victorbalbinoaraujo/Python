{
 "cells": [
  {
   "cell_type": "code",
   "execution_count": null,
   "source": [
    "class Carro(object):\r\n",
    "    pass\r\n",
    "\r\n",
    "palio = Carro()\r\n",
    "\r\n",
    "print(type(palio))"
   ],
   "outputs": [],
   "metadata": {}
  },
  {
   "cell_type": "code",
   "execution_count": null,
   "source": [
    "class Estudante:\r\n",
    "    def __init__(self, nome, idade, nota):\r\n",
    "        self.nome = nome\r\n",
    "        self.idade = idade\r\n",
    "        self.nota = nota\r\n",
    "\r\n",
    "estudante_1 = Estudante(\"Jeremias\", 21, 9.3)"
   ],
   "outputs": [],
   "metadata": {}
  },
  {
   "cell_type": "code",
   "execution_count": null,
   "source": [
    "class Funcionario:\r\n",
    "    def __init__(self, nome, salario):\r\n",
    "        self.nome = nome\r\n",
    "        self.salario = salario\r\n",
    "        \r\n",
    "    def listar_funcionario(self):\r\n",
    "        print(f\"O nome do funcionário é {self.nome} e ele recebe R$ {self.salario},00\")\r\n",
    "    \r\n",
    "\r\n",
    "funcionario_1 = Funcionario(\"Jeremias\", 3150)\r\n",
    "\r\n",
    "funcionario_1.listar_funcionario()\r\n",
    "\r\n",
    "type(funcionario_1)        "
   ],
   "outputs": [],
   "metadata": {}
  },
  {
   "cell_type": "code",
   "execution_count": 15,
   "source": [
    "# O Objeto tem o atributo\r\n",
    "hasattr(funcionario_1, \"nome\") # True\r\n",
    "hasattr(funcionario_1, \"salario\") # True\r\n",
    "\r\n",
    "# Definir o valor do atributo\r\n",
    "setattr(funcionario_1, \"nome\", \"Jeremiah\")\r\n",
    "setattr(funcionario_1, \"salario\", 4500)\r\n",
    "\r\n",
    "funcionario_1.listar_funcionario()\r\n",
    "\r\n",
    "# Obter o valor do atributo\r\n",
    "print(getattr(funcionario_1, \"nome\"))\r\n",
    "print(getattr(funcionario_1, \"salario\"))\r\n",
    "\r\n",
    "# Deletar o atributo\r\n",
    "delattr(funcionario_1, \"nome\")\r\n",
    "delattr(funcionario_1, \"salario\")\r\n",
    "\r\n",
    "try:\r\n",
    "    print(funcionario_1.nome)\r\n",
    "    print(funcionario_1.salario)\r\n",
    "except AttributeError:\r\n",
    "    print(\"O objeto não possui os atributos\")"
   ],
   "outputs": [
    {
     "output_type": "stream",
     "name": "stdout",
     "text": [
      "O nome do funcionário é Jeremiah e ele recebe R$ 4500,00\n",
      "Jeremiah\n",
      "4500\n"
     ]
    },
    {
     "output_type": "error",
     "ename": "AttributeError",
     "evalue": "'Funcionario' object has no attribute 'nome'",
     "traceback": [
      "\u001b[1;31m---------------------------------------------------------------------------\u001b[0m",
      "\u001b[1;31mAttributeError\u001b[0m                            Traceback (most recent call last)",
      "\u001b[1;32m~\\AppData\\Local\\Temp/ipykernel_9288/3881469327.py\u001b[0m in \u001b[0;36m<module>\u001b[1;34m\u001b[0m\n\u001b[0;32m     17\u001b[0m \u001b[0mdelattr\u001b[0m\u001b[1;33m(\u001b[0m\u001b[0mfuncionario_1\u001b[0m\u001b[1;33m,\u001b[0m \u001b[1;34m\"salario\"\u001b[0m\u001b[1;33m)\u001b[0m\u001b[1;33m\u001b[0m\u001b[1;33m\u001b[0m\u001b[0m\n\u001b[0;32m     18\u001b[0m \u001b[1;33m\u001b[0m\u001b[0m\n\u001b[1;32m---> 19\u001b[1;33m \u001b[0mprint\u001b[0m\u001b[1;33m(\u001b[0m\u001b[0mfuncionario_1\u001b[0m\u001b[1;33m.\u001b[0m\u001b[0mnome\u001b[0m\u001b[1;33m)\u001b[0m\u001b[1;33m\u001b[0m\u001b[1;33m\u001b[0m\u001b[0m\n\u001b[0m\u001b[0;32m     20\u001b[0m \u001b[0mprint\u001b[0m\u001b[1;33m(\u001b[0m\u001b[0mfuncionario_1\u001b[0m\u001b[1;33m.\u001b[0m\u001b[0msalario\u001b[0m\u001b[1;33m)\u001b[0m\u001b[1;33m\u001b[0m\u001b[1;33m\u001b[0m\u001b[0m\n",
      "\u001b[1;31mAttributeError\u001b[0m: 'Funcionario' object has no attribute 'nome'"
     ]
    }
   ],
   "metadata": {}
  }
 ],
 "metadata": {
  "orig_nbformat": 4,
  "language_info": {
   "name": "python",
   "version": "3.9.6",
   "mimetype": "text/x-python",
   "codemirror_mode": {
    "name": "ipython",
    "version": 3
   },
   "pygments_lexer": "ipython3",
   "nbconvert_exporter": "python",
   "file_extension": ".py"
  },
  "kernelspec": {
   "name": "python3",
   "display_name": "Python 3.9.6 64-bit"
  },
  "interpreter": {
   "hash": "b2a6f09527545e370935e82da67d9200a6ba8ae5f29d2a729dc4524a539d679f"
  }
 },
 "nbformat": 4,
 "nbformat_minor": 2
}