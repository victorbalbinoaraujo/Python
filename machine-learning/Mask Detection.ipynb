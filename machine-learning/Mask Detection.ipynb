{
 "cells": [
  {
   "cell_type": "code",
   "execution_count": null,
   "id": "7f52aeb8",
   "metadata": {},
   "outputs": [],
   "source": [
    "import os\n",
    "import cv2\n",
    "import numpy as np\n",
    "import matplotlib.pyplot as plt\n",
    "\n",
    "from imutils import paths\n",
    "\n",
    "from tensorflow.keras.models import Model\n",
    "from tensorflow.keras.models import load_model\n",
    "\n",
    "from tensorflow.keras.layers import Dense\n",
    "from tensorflow.keras.layers import Input\n",
    "from tensorflow.keras.layers import Dropout\n",
    "from tensorflow.keras.layers import Flatten\n",
    "from tensorflow.keras.layers import AveragePooling2D\n",
    "\n",
    "from tensorflow.keras.applications import MobileNetV2\n",
    "from tensorflow.keras.applications.mobilenet_v2 import preprocess_input\n",
    "\n",
    "from tensorflow.keras.preprocessing.image import load_img\n",
    "from tensorflow.keras.preprocessing.image import img_to_array\n",
    "from tensorflow.keras.preprocessing.image import ImageDataGenerator\n",
    "\n",
    "from tensorflow.keras.utils import to_categorical\n",
    "\n",
    "from tensorflow.keras.optimizers import Adam\n",
    "\n",
    "from sklearn.preprocessing import LabelBinarizer\n",
    "from sklearn.metrics import classification_report\n",
    "from sklearn.model_selection import train_test_split"
   ]
  },
  {
   "cell_type": "code",
   "execution_count": null,
   "id": "ff74f6e0",
   "metadata": {},
   "outputs": [],
   "source": [
    "dataset = r'C:\\Users\\victor\\Python\\machine-learning\\Mask Dataset\\dataset'\n",
    "image_paths = list(paths.list_images(dataset))"
   ]
  },
  {
   "cell_type": "code",
   "execution_count": null,
   "id": "7aa4c7cc",
   "metadata": {},
   "outputs": [],
   "source": [
    "image_paths"
   ]
  },
  {
   "cell_type": "code",
   "execution_count": null,
   "id": "6706eb10",
   "metadata": {},
   "outputs": [],
   "source": [
    "data = []\n",
    "labels = []\n",
    "\n",
    "for i in image_paths:\n",
    "    \n",
    "    # without_mask, with_mask\n",
    "    label = i.split(os.path.sep)[-2]\n",
    "    labels.append(label)\n",
    "    \n",
    "    image = load_img(i, target_size=(224, 224))\n",
    "    image = img_to_array(image)\n",
    "    image = preprocess_input(image)\n",
    "    data.append(image)"
   ]
  },
  {
   "cell_type": "code",
   "execution_count": null,
   "id": "135ff0e0",
   "metadata": {},
   "outputs": [],
   "source": [
    "labels"
   ]
  },
  {
   "cell_type": "code",
   "execution_count": null,
   "id": "2fa74bed",
   "metadata": {},
   "outputs": [],
   "source": [
    "data"
   ]
  },
  {
   "cell_type": "code",
   "execution_count": null,
   "id": "110ad110",
   "metadata": {},
   "outputs": [],
   "source": [
    "data = np.array(data, dtype='float32')\n",
    "labels = np.array(labels)"
   ]
  },
  {
   "cell_type": "code",
   "execution_count": null,
   "id": "8fe0a149",
   "metadata": {},
   "outputs": [],
   "source": [
    "data"
   ]
  },
  {
   "cell_type": "code",
   "execution_count": null,
   "id": "607cc380",
   "metadata": {},
   "outputs": [],
   "source": [
    "data.shape"
   ]
  },
  {
   "cell_type": "code",
   "execution_count": null,
   "id": "c75d4add",
   "metadata": {},
   "outputs": [],
   "source": [
    "labels"
   ]
  },
  {
   "cell_type": "code",
   "execution_count": null,
   "id": "0b115617",
   "metadata": {},
   "outputs": [],
   "source": [
    "labels.shape"
   ]
  },
  {
   "cell_type": "code",
   "execution_count": null,
   "id": "dc342842",
   "metadata": {},
   "outputs": [],
   "source": [
    "label_binarizer = LabelBinarizer()\n",
    "labels = label_binarizer.fit_transform(labels)\n",
    "labels = to_categorical(labels)"
   ]
  },
  {
   "cell_type": "code",
   "execution_count": null,
   "id": "45e46c23",
   "metadata": {},
   "outputs": [],
   "source": [
    "labels"
   ]
  },
  {
   "cell_type": "code",
   "execution_count": null,
   "id": "9901ed80",
   "metadata": {},
   "outputs": [],
   "source": [
    "train_x, test_x, train_y, test_y = train_test_split(data, labels, test_size=0.25, random_state=10, stratify=labels)"
   ]
  },
  {
   "cell_type": "code",
   "execution_count": null,
   "id": "c91966a4",
   "metadata": {
    "scrolled": true
   },
   "outputs": [],
   "source": [
    "print(train_x.shape) # 75%\n",
    "print(train_y.shape) # 75"
   ]
  },
  {
   "cell_type": "code",
   "execution_count": null,
   "id": "4058a510",
   "metadata": {},
   "outputs": [],
   "source": [
    "print(test_x.shape) # 25%\n",
    "print(test_y.shape) # 25"
   ]
  },
  {
   "cell_type": "code",
   "execution_count": null,
   "id": "c279088d",
   "metadata": {},
   "outputs": [],
   "source": [
    "aug = ImageDataGenerator(rotation_range=20, zoom_range=0.15, width_shift_range=0.2, height_shift_range=0.2, \n",
    "                         shear_range=0.15, horizontal_flip=True, vertical_flip=True, fill_mode='nearest')\n",
    "\n",
    "aug"
   ]
  },
  {
   "cell_type": "code",
   "execution_count": null,
   "id": "386aadb1",
   "metadata": {},
   "outputs": [],
   "source": [
    "base_model = MobileNetV2(weights='imagenet', include_top=False, input_tensor=Input(shape=(224, 224, 3)))\n"
   ]
  },
  {
   "cell_type": "code",
   "execution_count": null,
   "id": "5feb6ee8",
   "metadata": {},
   "outputs": [],
   "source": [
    "base_model.summary()"
   ]
  },
  {
   "cell_type": "code",
   "execution_count": null,
   "id": "873070ed",
   "metadata": {},
   "outputs": [],
   "source": [
    "head_model = base_model.output\n",
    "head_model = AveragePooling2D(pool_size=(7, 7))(head_model)\n",
    "head_model = Flatten(name='Flatten')(head_model)\n",
    "head_model = Dense(128, activation='relu')(head_model)\n",
    "head_model = Dropout(0.5)(head_model)\n",
    "head_model = Dense(2, activation='softmax')(head_model)\n",
    "\n",
    "\n",
    "model = Model(inputs=base_model.input, outputs=head_model)"
   ]
  },
  {
   "cell_type": "code",
   "execution_count": null,
   "id": "1a7148be",
   "metadata": {},
   "outputs": [],
   "source": [
    "for layer in base_model.layers:\n",
    "    layer.trainable = False"
   ]
  },
  {
   "cell_type": "code",
   "execution_count": null,
   "id": "5505913b",
   "metadata": {},
   "outputs": [],
   "source": [
    "model.summary()"
   ]
  },
  {
   "cell_type": "code",
   "execution_count": null,
   "id": "68aba4ba",
   "metadata": {},
   "outputs": [],
   "source": [
    "learning_rate = 0.001\n",
    "Epochs = 20\n",
    "Batch_size = 12\n",
    "optimization = Adam(learning_rate=learning_rate, decay=learning_rate/Epochs)\n",
    "\n",
    "model.compile(loss='binary_crossentropy', optimizer=optimization, metrics=['accuracy'])\n",
    "\n",
    "model.fit(\n",
    "    aug.flow(train_x, train_y, batch_size=Batch_size),\n",
    "    steps_per_epoch=len(train_x)//Batch_size,\n",
    "    validation_data=(test_x, test_y),\n",
    "    validation_steps=len(test_x)//Batch_size,\n",
    "    epochs=Epochs\n",
    ")\n",
    "\n",
    "model.save(r'C:\\Users\\victor\\Python\\machine-learning\\Mask Dataset\\mobilenet_v2.model')"
   ]
  },
  {
   "cell_type": "code",
   "execution_count": null,
   "id": "0fa74c8e",
   "metadata": {},
   "outputs": [],
   "source": [
    "predict = model.predict(test_x, batch_size=Batch_size)\n",
    "predict = np.argmax(predict, axis=1)\n",
    "print(classification_report(test_y.argmax(axis=1), predict, target_names=label_binarizer.classes_))"
   ]
  },
  {
   "cell_type": "code",
   "execution_count": null,
   "id": "55d75c05",
   "metadata": {},
   "outputs": [],
   "source": [
    "prototxt_path = os.path.sep.join([r'C:\\Users\\victor\\Python\\machine-learning\\Mask Dataset', 'deploy.prototxt.txt'])\n",
    "weights_path  = os.path.sep.join([r'C:\\Users\\victor\\Python\\machine-learning\\Mask Dataset', 'res10_300x300_ssd_iter_140000.caffemodel'])"
   ]
  },
  {
   "cell_type": "code",
   "execution_count": null,
   "id": "5e2c9840",
   "metadata": {},
   "outputs": [],
   "source": [
    "prototxt_path"
   ]
  },
  {
   "cell_type": "code",
   "execution_count": null,
   "id": "a4f043bc",
   "metadata": {},
   "outputs": [],
   "source": [
    "weights_path"
   ]
  },
  {
   "cell_type": "code",
   "execution_count": null,
   "id": "a1f14f07",
   "metadata": {},
   "outputs": [],
   "source": [
    "net = cv2.dnn.readNet(prototxt_path, weights_path)"
   ]
  },
  {
   "cell_type": "code",
   "execution_count": null,
   "id": "a6bae06a",
   "metadata": {},
   "outputs": [],
   "source": [
    "model1 = load_model(r'C:\\Users\\victor\\Python\\machine-learning\\Mask Dataset\\mobilenet_v2.model')"
   ]
  },
  {
   "cell_type": "code",
   "execution_count": null,
   "id": "3beee3c8",
   "metadata": {},
   "outputs": [],
   "source": [
    "image1 = cv2.imread(r'C:\\Users\\victor\\Python\\machine-learning\\example_16.jpg')"
   ]
  },
  {
   "cell_type": "code",
   "execution_count": null,
   "id": "ae39ee73",
   "metadata": {},
   "outputs": [],
   "source": [
    "image1"
   ]
  },
  {
   "cell_type": "code",
   "execution_count": null,
   "id": "0082509e",
   "metadata": {},
   "outputs": [],
   "source": [
    "(h, w) = image1.shape[:2]"
   ]
  },
  {
   "cell_type": "code",
   "execution_count": null,
   "id": "d43b33de",
   "metadata": {},
   "outputs": [],
   "source": [
    "(h, w)"
   ]
  },
  {
   "cell_type": "code",
   "execution_count": null,
   "id": "12f125d9",
   "metadata": {},
   "outputs": [],
   "source": [
    "blob = cv2.dnn.blobFromImage(image1, 1.0, (300, 300), (104.0, 177.0, 123.0))"
   ]
  },
  {
   "cell_type": "code",
   "execution_count": null,
   "id": "96dcdf14",
   "metadata": {},
   "outputs": [],
   "source": [
    "blob"
   ]
  },
  {
   "cell_type": "code",
   "execution_count": null,
   "id": "dc8710b1",
   "metadata": {},
   "outputs": [],
   "source": [
    "blob.shape"
   ]
  },
  {
   "cell_type": "code",
   "execution_count": null,
   "id": "82a82cc0",
   "metadata": {},
   "outputs": [],
   "source": [
    "net.setInput(blob)\n",
    "detections = net.forward()"
   ]
  },
  {
   "cell_type": "code",
   "execution_count": null,
   "id": "55e589db",
   "metadata": {},
   "outputs": [],
   "source": [
    "detections"
   ]
  },
  {
   "cell_type": "code",
   "execution_count": null,
   "id": "c52dc3c9",
   "metadata": {},
   "outputs": [],
   "source": [
    "for i in range(0, detections.shape[2]):\n",
    "    \n",
    "    confidence = detections[0, 0, i, 2]\n",
    "    \n",
    "    if confidence > 0.5:\n",
    "        box = detections[0, 0, i, 3:7] * np.array([w, h, w, h])\n",
    "        (start_x, start_y, end_x, end_y) = box.astype('int')\n",
    "        \n",
    "        (start_x, start_y) = (max(0, start_x), max(0, start_y))\n",
    "        (end_x, end_y) = (min(w-1, end_x), min(h - 1, end_y))\n",
    "        \n",
    "        face = image1[start_y:end_y, start_x:end_x]\n",
    "        face = cv2.cvtColor(face, cv2.COLOR_BGR2RGB)\n",
    "        face = cv2.resize(face, (224, 224))\n",
    "        face = img_to_array(face)\n",
    "        face = preprocess_input(face)\n",
    "        face = np.expand_dims(face, axis=0)\n",
    "        \n",
    "        (mask, without_mask) = model1.predict(face)[0]\n",
    "        \n",
    "        label = 'Com mascara' if mask > without_mask else 'Sem mascara'\n",
    "        color = (0, 255, 0) if label == 'Com mascara' else (0, 0, 255)\n",
    "        \n",
    "        label = \"{}: {:.2f}%\".format(label, max(mask, without_mask) * 100)\n",
    "        \n",
    "        cv2.putText(image1, label, (start_x, start_y-10), cv2.FONT_HERSHEY_SIMPLEX, 0.45, color, 2)\n",
    "        cv2.rectangle(image1, (start_x, start_y), (end_x, end_y), color, 2)\n",
    "        \n",
    "cv2.imshow(\"Output\", image1)\n",
    "cv2.waitKey(0)\n",
    "cv2.destroyAllWindows()"
   ]
  }
 ],
 "metadata": {
  "kernelspec": {
   "display_name": "Python 3 (ipykernel)",
   "language": "python",
   "name": "python3"
  },
  "language_info": {
   "codemirror_mode": {
    "name": "ipython",
    "version": 3
   },
   "file_extension": ".py",
   "mimetype": "text/x-python",
   "name": "python",
   "nbconvert_exporter": "python",
   "pygments_lexer": "ipython3",
   "version": "3.9.12"
  }
 },
 "nbformat": 4,
 "nbformat_minor": 5
}
