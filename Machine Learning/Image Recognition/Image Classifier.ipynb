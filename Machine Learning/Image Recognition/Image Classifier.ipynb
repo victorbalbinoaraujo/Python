{
 "cells": [
  {
   "cell_type": "code",
   "execution_count": null,
   "source": [
    "import numpy as np\r\n",
    "import tensorflow as tf\r\n",
    "import matplotlib.pyplot as plt\r\n",
    "\r\n",
    "from tensorflow import keras\r\n",
    "from tensorflow.keras import layers\r\n",
    "from tensorflow.keras.utils import to_categorical\r\n",
    "\r\n",
    "from keras.datasets import cifar10\r\n",
    "from keras.models import Sequential\r\n",
    "from keras.layers import Dense, Flatten, Conv2D, MaxPooling2D, Dropout"
   ],
   "outputs": [],
   "metadata": {}
  },
  {
   "cell_type": "code",
   "execution_count": null,
   "source": [
    "plt.style.use('fivethirtyeight')"
   ],
   "outputs": [],
   "metadata": {}
  },
  {
   "cell_type": "code",
   "execution_count": null,
   "source": [
    "(x_train, y_train), (x_test, y_test) = cifar10.load_data()"
   ],
   "outputs": [],
   "metadata": {}
  },
  {
   "cell_type": "code",
   "execution_count": null,
   "source": [
    "print(f\"\"\"\r\n",
    "      {type(x_train)}\r\n",
    "      {type(y_train)}\r\n",
    "      {type(x_test)}\r\n",
    "      {type(y_test)}\r\n",
    "      \"\"\")"
   ],
   "outputs": [],
   "metadata": {}
  },
  {
   "cell_type": "code",
   "execution_count": null,
   "source": [
    "print(f\"\"\"\r\n",
    "      {x_train.shape} # 4D Array. 50000 rows. 32x32 images. 3 depth rgb\r\n",
    "      {y_train.shape} # 50000 rows. 1 column.\r\n",
    "      {x_test.shape}  # 4D Array. 10000 rows. 32x32 images. 3 depth rgb\r\n",
    "      {y_test.shape}  # 10000 rows. 1 column.\r\n",
    "      \"\"\")"
   ],
   "outputs": [],
   "metadata": {}
  },
  {
   "cell_type": "code",
   "execution_count": 69,
   "source": [
    "index = 5\r\n",
    "x_train[index] # Image as array\r\n",
    "plt.imshow(x_train[index]) # Image as picture."
   ],
   "outputs": [
    {
     "output_type": "execute_result",
     "data": {
      "text/plain": [
       "<matplotlib.image.AxesImage at 0x1c3d9361c70>"
      ]
     },
     "metadata": {},
     "execution_count": 69
    },
    {
     "output_type": "display_data",
     "data": {
      "image/png": "[encoded data removed]",
      "text/plain": [
       "<Figure size 432x288 with 1 Axes>"
      ]
     },
     "metadata": {}
    }
   ],
   "metadata": {}
  },
  {
   "cell_type": "code",
   "execution_count": 70,
   "source": [
    "# Image classification\r\n",
    "\r\n",
    "classification = ['airplane', 'automobile', 'bird', 'cat', 'deer', \r\n",
    "                           'dog', 'frog','horse', 'ship', 'truck']\r\n",
    "\r\n",
    "classification[y_train[index][0]]"
   ],
   "outputs": [
    {
     "output_type": "execute_result",
     "data": {
      "text/plain": [
       "'automobile'"
      ]
     },
     "metadata": {},
     "execution_count": 70
    }
   ],
   "metadata": {}
  }
 ],
 "metadata": {
  "orig_nbformat": 4,
  "language_info": {
   "name": "python",
   "version": "3.9.6",
   "mimetype": "text/x-python",
   "codemirror_mode": {
    "name": "ipython",
    "version": 3
   },
   "pygments_lexer": "ipython3",
   "nbconvert_exporter": "python",
   "file_extension": ".py"
  },
  "kernelspec": {
   "name": "python3",
   "display_name": "Python 3.9.6 64-bit"
  },
  "interpreter": {
   "hash": "b2a6f09527545e370935e82da67d9200a6ba8ae5f29d2a729dc4524a539d679f"
  }
 },
 "nbformat": 4,
 "nbformat_minor": 2
}