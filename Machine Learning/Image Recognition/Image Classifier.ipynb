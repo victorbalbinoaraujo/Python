{
 "cells": [
  {
   "cell_type": "code",
   "execution_count": null,
   "source": [
    "import numpy as np\r\n",
    "import tensorflow as tf\r\n",
    "import matplotlib.pyplot as plt\r\n",
    "\r\n",
    "from tensorflow import keras\r\n",
    "from tensorflow.keras import layers\r\n",
    "from tensorflow.keras.utils import to_categorical\r\n",
    "\r\n",
    "from keras.datasets import cifar10\r\n",
    "from keras.models import Sequential\r\n",
    "from keras.layers import Dense, Flatten, Conv2D, MaxPooling2D, Dropout"
   ],
   "outputs": [],
   "metadata": {}
  },
  {
   "cell_type": "code",
   "execution_count": null,
   "source": [
    "plt.style.use('fivethirtyeight')"
   ],
   "outputs": [],
   "metadata": {}
  },
  {
   "cell_type": "code",
   "execution_count": null,
   "source": [
    "(x_train, y_train), (x_test, y_test) = cifar10.load_data()"
   ],
   "outputs": [],
   "metadata": {}
  },
  {
   "cell_type": "code",
   "execution_count": null,
   "source": [
    "print(f\"\"\"\r\n",
    "      {type(x_train)}\r\n",
    "      {type(y_train)}\r\n",
    "      {type(x_test)}\r\n",
    "      {type(y_test)}\r\n",
    "      \"\"\")"
   ],
   "outputs": [],
   "metadata": {}
  },
  {
   "cell_type": "code",
   "execution_count": null,
   "source": [
    "print(f\"\"\"\r\n",
    "      {x_train.shape} # 4D Array. 50000 rows. 32x32 images. 3 depth rgb\r\n",
    "      {y_train.shape} # 50000 rows. 1 column.\r\n",
    "      {x_test.shape}  # 4D Array. 10000 rows. 32x32 images. 3 depth rgb\r\n",
    "      {y_test.shape}  # 10000 rows. 1 column.\r\n",
    "      \"\"\")"
   ],
   "outputs": [],
   "metadata": {}
  },
  {
   "cell_type": "code",
   "execution_count": null,
   "source": [
    "index = 5\r\n",
    "x_train[index] # Image as array\r\n",
    "plt.imshow(x_train[index]) # Image as picture."
   ],
   "outputs": [],
   "metadata": {}
  },
  {
   "cell_type": "code",
   "execution_count": null,
   "source": [
    "# Image classification\r\n",
    "\r\n",
    "classification = ['airplane', 'automobile', 'bird', 'cat', 'deer', \r\n",
    "                           'dog', 'frog','horse', 'ship', 'truck']\r\n",
    "\r\n",
    "classification[y_train[index][0]]"
   ],
   "outputs": [],
   "metadata": {}
  },
  {
   "cell_type": "code",
   "execution_count": null,
   "source": [
    "# Convert labels -> set of 10 nums -> input neural network\r\n",
    "\r\n",
    "y_train_one_hot = to_categorical(y_train)\r\n",
    "y_test_one_hot = to_categorical(y_test)"
   ],
   "outputs": [],
   "metadata": {}
  },
  {
   "cell_type": "code",
   "execution_count": null,
   "source": [
    "print(y_train_one_hot)\r\n",
    "y_train_one_hot[index] # 1 corresponds classification. "
   ],
   "outputs": [],
   "metadata": {}
  },
  {
   "cell_type": "code",
   "execution_count": null,
   "source": [
    "# Normalize the pixels\r\n",
    "\r\n",
    "x_train = x_train / 255\r\n",
    "x_test = x_test / 255"
   ],
   "outputs": [],
   "metadata": {}
  },
  {
   "cell_type": "code",
   "execution_count": null,
   "source": [
    "x_train[index]"
   ],
   "outputs": [],
   "metadata": {}
  },
  {
   "cell_type": "code",
   "execution_count": null,
   "source": [
    "# Model architecture\r\n",
    "model = Sequential()\r\n",
    "\r\n",
    "# First Layer - Convolution Layer\r\n",
    "model.add(Conv2D(32, (5,5), activation='relu', input_shape=(32, 32, 3)))\r\n",
    "\r\n",
    "# Pooling layer\r\n",
    "model.add(MaxPooling2D(pool_size=(2,2)))\r\n",
    "\r\n",
    "# Another Convolution Layer\r\n",
    "model.add(Conv2D(32, (5,5), activation='relu'))\r\n",
    "\r\n",
    "# Another Pooling layer\r\n",
    "model.add(MaxPooling2D(pool_size=(2,2)))"
   ],
   "outputs": [],
   "metadata": {}
  }
 ],
 "metadata": {
  "orig_nbformat": 4,
  "language_info": {
   "name": "python",
   "version": "3.9.6",
   "mimetype": "text/x-python",
   "codemirror_mode": {
    "name": "ipython",
    "version": 3
   },
   "pygments_lexer": "ipython3",
   "nbconvert_exporter": "python",
   "file_extension": ".py"
  },
  "kernelspec": {
   "name": "python3",
   "display_name": "Python 3.9.6 64-bit"
  },
  "interpreter": {
   "hash": "b2a6f09527545e370935e82da67d9200a6ba8ae5f29d2a729dc4524a539d679f"
  }
 },
 "nbformat": 4,
 "nbformat_minor": 2
}