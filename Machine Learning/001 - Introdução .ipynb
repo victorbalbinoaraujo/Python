{
 "cells": [
  {
   "cell_type": "code",
   "execution_count": null,
   "metadata": {},
   "outputs": [],
   "source": [
    "\"\"\"\n",
    "1. Import Data\n",
    "2. Clean Data\n",
    "3. Split Data into Train and Test\n",
    "4. Create Model\n",
    "5. Train Model\n",
    "6. Make Predictions\n",
    "7. Evaluate and Improve\n",
    "\"\"\"\n",
    "\n",
    "\"\"\"\n",
    "Libraries and Tools\n",
    " - Numpy: Multi dimensional array\n",
    " - Pandas: Data analysis / Data Frame\n",
    " - Matplotlib: Graphs and Plots\n",
    " - Scikit-Learn: Algorithms / Neural Networks\n",
    " \n",
    "\"\"\""
   ]
  },
  {
   "cell_type": "code",
   "execution_count": 42,
   "metadata": {},
   "outputs": [
    {
     "data": {
      "text/plain": [
       "100.0"
      ]
     },
     "execution_count": 42,
     "metadata": {},
     "output_type": "execute_result"
    }
   ],
   "source": [
    "import pandas as pd\n",
    "from sklearn.tree import DecisionTreeClassifier as dtc # Modelo Machine Learning\n",
    "from sklearn.model_selection import train_test_split as tts # Separar dados em Treino e Teste\n",
    "from sklearn.metrics import accuracy_score as a_s # Ver acurácia\n",
    "\n",
    "# Carregando arquivo CSV\n",
    "df = pd.read_csv('../CSV Files/music.csv')\n",
    "\n",
    "# Separando o arquivo CSV em dois: X input e y output\n",
    "# X sendo idade e gênero e y o gosto musical\n",
    "# A partir do X tentar prever o que y seria\n",
    "X = df.drop(columns=['genre'])\n",
    "y = df.genre\n",
    "\n",
    "# Separando dados em Treino e Teste, o modelo Machine Learning utilizará os Treino para aprender e Teste para prever\n",
    "X_train, X_test, y_train, y_test = tts(X, y, test_size=0.3)\n",
    "\n",
    "# Declarando modelo \n",
    "model = dtc()\n",
    "\n",
    "# Treinando modelo \n",
    "model.fit(X_train, y_train)\n",
    "\n",
    "# Prevendo os resultados, pred contém o que o modelo acha correto \n",
    "pred = model.predict(X_test)\n",
    "\n",
    "# Comparar, respectivamente o que é correto e o que o modelo acha que é correto\n",
    "score = a_s(y_test, pred)\n",
    "\n",
    "# Mostrar a pontuação do modelo\n",
    "score * 100"
   ]
  }
 ],
 "metadata": {
  "kernelspec": {
   "display_name": "Python 3",
   "language": "python",
   "name": "python3"
  },
  "language_info": {
   "codemirror_mode": {
    "name": "ipython",
    "version": 3
   },
   "file_extension": ".py",
   "mimetype": "text/x-python",
   "name": "python",
   "nbconvert_exporter": "python",
   "pygments_lexer": "ipython3",
   "version": "3.8.5"
  }
 },
 "nbformat": 4,
 "nbformat_minor": 4
}
