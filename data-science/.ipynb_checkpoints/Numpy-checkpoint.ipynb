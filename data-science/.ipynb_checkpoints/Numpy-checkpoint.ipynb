{
 "cells": [
  {
   "cell_type": "markdown",
   "metadata": {},
   "source": [
    "# Basic"
   ]
  },
  {
   "cell_type": "code",
   "execution_count": 1,
   "metadata": {},
   "outputs": [
    {
     "name": "stdout",
     "output_type": "stream",
     "text": [
      "[1 2 3 4]\n",
      "[1 2 3 4]\n"
     ]
    }
   ],
   "source": [
    "import numpy as np\n",
    "\n",
    "a = np.array([1, 2, 3, 4])\n",
    "b = np.array((1, 2, 3, 4)) \n",
    "\n",
    "print(a) # [1 2 3 4] np.ndarray\n",
    "print(b) # [1 2 3 4] np.ndarray"
   ]
  },
  {
   "cell_type": "code",
   "execution_count": 2,
   "metadata": {},
   "outputs": [
    {
     "name": "stdout",
     "output_type": "stream",
     "text": [
      "int32\n",
      "float32\n"
     ]
    }
   ],
   "source": [
    "c = np.array((1, 3, 4, 6, 6), dtype='i') # Integer\n",
    "d = np.array((4, 4, 2, 5, 6), dtype='f') # Float\n",
    "\n",
    "print(c.dtype) # int32\n",
    "print(d.dtype) # float32"
   ]
  },
  {
   "cell_type": "markdown",
   "metadata": {},
   "source": [
    "# Dimensions"
   ]
  },
  {
   "cell_type": "code",
   "execution_count": 3,
   "metadata": {},
   "outputs": [
    {
     "name": "stdout",
     "output_type": "stream",
     "text": [
      "2\n",
      "2\n",
      "4\n"
     ]
    }
   ],
   "source": [
    "a = np.array([[1, 2, 3, 4], [5, 6, 7, 8]])\n",
    "print(a.ndim) # 2\n",
    "\n",
    "print(a.shape[0]) # 2 conjuntos: [1, 2, 3, 4] e [5, 6, 7, 8]\n",
    "print(a.shape[1]) # 4 números no conjunto [1, 2, 3, 4]"
   ]
  },
  {
   "cell_type": "code",
   "execution_count": 4,
   "metadata": {},
   "outputs": [
    {
     "name": "stderr",
     "output_type": "stream",
     "text": [
      "<ipython-input-4-659f2e05c502>:1: VisibleDeprecationWarning: Creating an ndarray from ragged nested sequences (which is a list-or-tuple of lists-or-tuples-or ndarrays with different lengths or shapes) is deprecated. If you meant to do this, you must specify 'dtype=object' when creating the ndarray.\n",
      "  b = np.array([[1, 3, 5], [1, 5, 2, 7]])\n"
     ]
    },
    {
     "data": {
      "text/plain": [
       "array([list([1, 3, 5]), list([1, 5, 2, 7])], dtype=object)"
      ]
     },
     "execution_count": 4,
     "metadata": {},
     "output_type": "execute_result"
    }
   ],
   "source": [
    "b = np.array([[1, 3, 5], [1, 5, 2, 7]]) \n",
    "b # Erro. Precisa ter o mesmo número de elementos."
   ]
  },
  {
   "cell_type": "code",
   "execution_count": 5,
   "metadata": {},
   "outputs": [
    {
     "data": {
      "text/plain": [
       "'\\n2 -> P N\\n3 -> 0, 1, 2\\n3 -> x, y, z\\n'"
      ]
     },
     "execution_count": 5,
     "metadata": {},
     "output_type": "execute_result"
    }
   ],
   "source": [
    "c = np.array(\n",
    "    [[[1, 2, 3],\n",
    "    [4, 5, 6],\n",
    "    [7, 8, 9]],\n",
    "    [[-1, -2, -3],\n",
    "    [-4, -5, -6],\n",
    "    [-7, -8, -9]]]\n",
    ")\n",
    "\n",
    "c.ndim # 3\n",
    "\n",
    "\"\"\"\n",
    "Acesso\n",
    "Positivos  Negativos\n",
    "[0, 1] -> Rosa\n",
    "\n",
    "Conjunto\n",
    "[0, 1, 2] -> Verde\n",
    "\n",
    "Elementos\n",
    "[x, y, z] -> Dentro do verde\n",
    "\"\"\"\n",
    "\n",
    "c[1, 1, 1] # -5\n",
    "c[0, 2, 1] # 8\n",
    "\n",
    "c.shape # 2, 3, 3\n",
    "c.size # Total de elementos = 2 * 3 * 3 = 18\n",
    "\n",
    "\"\"\"\n",
    "2 -> P N\n",
    "3 -> 0, 1, 2\n",
    "3 -> x, y, z\n",
    "\"\"\"\n"
   ]
  },
  {
   "cell_type": "code",
   "execution_count": 6,
   "metadata": {},
   "outputs": [
    {
     "data": {
      "text/plain": [
       "0"
      ]
     },
     "execution_count": 6,
     "metadata": {},
     "output_type": "execute_result"
    }
   ],
   "source": [
    "a = np.array([1])\n",
    "a.ndim # 1\n",
    "\n",
    "b = np.array(1)\n",
    "b.ndim # 0"
   ]
  },
  {
   "cell_type": "markdown",
   "metadata": {},
   "source": [
    "# Arange, Reshape, Random"
   ]
  },
  {
   "cell_type": "code",
   "execution_count": 7,
   "metadata": {},
   "outputs": [
    {
     "data": {
      "text/plain": [
       "array([1, 4, 7])"
      ]
     },
     "execution_count": 7,
     "metadata": {},
     "output_type": "execute_result"
    }
   ],
   "source": [
    "# Arange\n",
    "# for i in range()\n",
    "\n",
    "a = np.arange(100) \n",
    "a # 0, 1, 2, ..., 99\n",
    "\n",
    "a = np.arange(20, 100)\n",
    "a # 20, 21, 22, ..., 99\n",
    "\n",
    "a = np.arange(1, 10, 3)\n",
    "a # 1, 4, 7"
   ]
  },
  {
   "cell_type": "code",
   "execution_count": 8,
   "metadata": {},
   "outputs": [
    {
     "data": {
      "text/plain": [
       "9"
      ]
     },
     "execution_count": 8,
     "metadata": {},
     "output_type": "execute_result"
    }
   ],
   "source": [
    "# Random\n",
    "\n",
    "\"\"\"\n",
    "Permuta randomicamente números de 0 a 9\n",
    "Cada execução, um resultado diferente\n",
    "\"\"\"\n",
    "a = np.random.permutation(np.arange(10))\n",
    "a # Exemplo: 2, 8, 9, 1, 7, 3, 5, 6, 0, 4\n",
    "\n",
    "np.random.randint(0, 100) # Número inteiro aleatório entre 0 e 100"
   ]
  },
  {
   "cell_type": "code",
   "execution_count": 9,
   "metadata": {},
   "outputs": [
    {
     "data": {
      "text/plain": [
       "(array([ 97.,  99.,  80., 121.,  86.,  93.,  80., 117., 113., 114.]),\n",
       " array([1.84890244e-04, 9.99935830e-02, 1.99802276e-01, 2.99610968e-01,\n",
       "        3.99419661e-01, 4.99228354e-01, 5.99037046e-01, 6.98845739e-01,\n",
       "        7.98654432e-01, 8.98463125e-01, 9.98271817e-01]),\n",
       " <BarContainer object of 10 artists>)"
      ]
     },
     "execution_count": 9,
     "metadata": {},
     "output_type": "execute_result"
    },
    {
     "data": {
      "image/png": "[encoded data removed]",
      "text/plain": [
       "<Figure size 432x288 with 1 Axes>"
      ]
     },
     "metadata": {
      "needs_background": "light"
     },
     "output_type": "display_data"
    }
   ],
   "source": [
    "import matplotlib.pyplot as plt\n",
    "\n",
    "# Array com 1000 elementos aleatórios entre 0 e 1\n",
    "a = np.random.rand(1000)\n",
    "plt.hist(a)"
   ]
  },
  {
   "cell_type": "code",
   "execution_count": 10,
   "metadata": {},
   "outputs": [
    {
     "data": {
      "text/plain": [
       "(array([1.000e+00, 0.000e+00, 0.000e+00, 0.000e+00, 0.000e+00, 0.000e+00,\n",
       "        0.000e+00, 0.000e+00, 0.000e+00, 0.000e+00, 0.000e+00, 0.000e+00,\n",
       "        0.000e+00, 0.000e+00, 1.000e+00, 0.000e+00, 0.000e+00, 0.000e+00,\n",
       "        3.000e+00, 1.000e+00, 2.000e+00, 4.000e+00, 2.000e+00, 4.000e+00,\n",
       "        2.000e+00, 1.000e+00, 1.000e+00, 2.000e+00, 3.000e+00, 3.000e+00,\n",
       "        6.000e+00, 1.000e+01, 4.000e+00, 7.000e+00, 1.300e+01, 5.000e+00,\n",
       "        6.000e+00, 8.000e+00, 1.800e+01, 2.100e+01, 2.100e+01, 1.700e+01,\n",
       "        1.700e+01, 4.300e+01, 3.100e+01, 3.900e+01, 4.100e+01, 4.100e+01,\n",
       "        4.100e+01, 4.900e+01, 4.600e+01, 6.000e+01, 6.300e+01, 9.400e+01,\n",
       "        1.070e+02, 1.000e+02, 1.290e+02, 1.310e+02, 1.550e+02, 1.500e+02,\n",
       "        1.590e+02, 2.240e+02, 2.390e+02, 2.160e+02, 2.620e+02, 2.920e+02,\n",
       "        3.030e+02, 3.160e+02, 3.500e+02, 4.110e+02, 4.470e+02, 4.610e+02,\n",
       "        5.260e+02, 5.300e+02, 5.340e+02, 6.260e+02, 6.360e+02, 7.100e+02,\n",
       "        7.140e+02, 8.200e+02, 8.520e+02, 8.350e+02, 9.110e+02, 1.011e+03,\n",
       "        1.063e+03, 1.082e+03, 1.090e+03, 1.176e+03, 1.211e+03, 1.245e+03,\n",
       "        1.316e+03, 1.368e+03, 1.418e+03, 1.505e+03, 1.536e+03, 1.557e+03,\n",
       "        1.575e+03, 1.653e+03, 1.695e+03, 1.754e+03, 1.696e+03, 1.762e+03,\n",
       "        1.729e+03, 1.802e+03, 1.816e+03, 1.776e+03, 1.787e+03, 1.822e+03,\n",
       "        1.791e+03, 1.771e+03, 1.788e+03, 1.776e+03, 1.869e+03, 1.757e+03,\n",
       "        1.798e+03, 1.637e+03, 1.616e+03, 1.610e+03, 1.600e+03, 1.611e+03,\n",
       "        1.567e+03, 1.509e+03, 1.385e+03, 1.410e+03, 1.380e+03, 1.309e+03,\n",
       "        1.234e+03, 1.240e+03, 1.148e+03, 1.111e+03, 1.037e+03, 1.077e+03,\n",
       "        9.620e+02, 8.680e+02, 8.980e+02, 8.140e+02, 8.070e+02, 7.380e+02,\n",
       "        6.510e+02, 6.330e+02, 6.090e+02, 5.700e+02, 5.440e+02, 4.870e+02,\n",
       "        4.130e+02, 4.220e+02, 4.140e+02, 3.260e+02, 3.240e+02, 3.020e+02,\n",
       "        2.810e+02, 2.780e+02, 2.430e+02, 2.200e+02, 1.920e+02, 1.870e+02,\n",
       "        1.560e+02, 1.530e+02, 1.420e+02, 1.070e+02, 8.800e+01, 1.160e+02,\n",
       "        8.200e+01, 7.100e+01, 7.300e+01, 5.000e+01, 4.900e+01, 4.100e+01,\n",
       "        4.700e+01, 3.900e+01, 4.200e+01, 3.700e+01, 2.900e+01, 1.500e+01,\n",
       "        1.800e+01, 1.700e+01, 1.800e+01, 9.000e+00, 1.300e+01, 1.000e+01,\n",
       "        3.000e+00, 5.000e+00, 3.000e+00, 5.000e+00, 5.000e+00, 2.000e+00,\n",
       "        4.000e+00, 1.000e+00, 4.000e+00, 0.000e+00, 2.000e+00, 1.000e+00,\n",
       "        2.000e+00, 1.000e+00, 0.000e+00, 0.000e+00, 1.000e+00, 1.000e+00,\n",
       "        1.000e+00, 1.000e+00]),\n",
       " array([-4.87881662, -4.83356638, -4.78831615, -4.74306591, -4.69781567,\n",
       "        -4.65256543, -4.6073152 , -4.56206496, -4.51681472, -4.47156449,\n",
       "        -4.42631425, -4.38106401, -4.33581377, -4.29056354, -4.2453133 ,\n",
       "        -4.20006306, -4.15481283, -4.10956259, -4.06431235, -4.01906211,\n",
       "        -3.97381188, -3.92856164, -3.8833114 , -3.83806116, -3.79281093,\n",
       "        -3.74756069, -3.70231045, -3.65706022, -3.61180998, -3.56655974,\n",
       "        -3.5213095 , -3.47605927, -3.43080903, -3.38555879, -3.34030856,\n",
       "        -3.29505832, -3.24980808, -3.20455784, -3.15930761, -3.11405737,\n",
       "        -3.06880713, -3.0235569 , -2.97830666, -2.93305642, -2.88780618,\n",
       "        -2.84255595, -2.79730571, -2.75205547, -2.70680524, -2.661555  ,\n",
       "        -2.61630476, -2.57105452, -2.52580429, -2.48055405, -2.43530381,\n",
       "        -2.39005358, -2.34480334, -2.2995531 , -2.25430286, -2.20905263,\n",
       "        -2.16380239, -2.11855215, -2.07330192, -2.02805168, -1.98280144,\n",
       "        -1.9375512 , -1.89230097, -1.84705073, -1.80180049, -1.75655026,\n",
       "        -1.71130002, -1.66604978, -1.62079954, -1.57554931, -1.53029907,\n",
       "        -1.48504883, -1.4397986 , -1.39454836, -1.34929812, -1.30404788,\n",
       "        -1.25879765, -1.21354741, -1.16829717, -1.12304694, -1.0777967 ,\n",
       "        -1.03254646, -0.98729622, -0.94204599, -0.89679575, -0.85154551,\n",
       "        -0.80629528, -0.76104504, -0.7157948 , -0.67054456, -0.62529433,\n",
       "        -0.58004409, -0.53479385, -0.48954362, -0.44429338, -0.39904314,\n",
       "        -0.3537929 , -0.30854267, -0.26329243, -0.21804219, -0.17279196,\n",
       "        -0.12754172, -0.08229148, -0.03704124,  0.00820899,  0.05345923,\n",
       "         0.09870947,  0.1439597 ,  0.18920994,  0.23446018,  0.27971042,\n",
       "         0.32496065,  0.37021089,  0.41546113,  0.46071136,  0.5059616 ,\n",
       "         0.55121184,  0.59646208,  0.64171231,  0.68696255,  0.73221279,\n",
       "         0.77746302,  0.82271326,  0.8679635 ,  0.91321374,  0.95846397,\n",
       "         1.00371421,  1.04896445,  1.09421468,  1.13946492,  1.18471516,\n",
       "         1.2299654 ,  1.27521563,  1.32046587,  1.36571611,  1.41096635,\n",
       "         1.45621658,  1.50146682,  1.54671706,  1.59196729,  1.63721753,\n",
       "         1.68246777,  1.72771801,  1.77296824,  1.81821848,  1.86346872,\n",
       "         1.90871895,  1.95396919,  1.99921943,  2.04446967,  2.0897199 ,\n",
       "         2.13497014,  2.18022038,  2.22547061,  2.27072085,  2.31597109,\n",
       "         2.36122133,  2.40647156,  2.4517218 ,  2.49697204,  2.54222227,\n",
       "         2.58747251,  2.63272275,  2.67797299,  2.72322322,  2.76847346,\n",
       "         2.8137237 ,  2.85897393,  2.90422417,  2.94947441,  2.99472465,\n",
       "         3.03997488,  3.08522512,  3.13047536,  3.17572559,  3.22097583,\n",
       "         3.26622607,  3.31147631,  3.35672654,  3.40197678,  3.44722702,\n",
       "         3.49247725,  3.53772749,  3.58297773,  3.62822797,  3.6734782 ,\n",
       "         3.71872844,  3.76397868,  3.80922891,  3.85447915,  3.89972939,\n",
       "         3.94497963,  3.99022986,  4.0354801 ,  4.08073034,  4.12598057,\n",
       "         4.17123081]),\n",
       " <BarContainer object of 200 artists>)"
      ]
     },
     "execution_count": 10,
     "metadata": {},
     "output_type": "execute_result"
    },
    {
     "data": {
      "image/png": "[encoded data removed]",
      "text/plain": [
       "<Figure size 432x288 with 1 Axes>"
      ]
     },
     "metadata": {
      "needs_background": "light"
     },
     "output_type": "display_data"
    }
   ],
   "source": [
    "b = np.random.randn(100000)\n",
    "plt.hist(b, bins=200)"
   ]
  },
  {
   "cell_type": "code",
   "execution_count": 11,
   "metadata": {},
   "outputs": [
    {
     "data": {
      "text/plain": [
       "2"
      ]
     },
     "execution_count": 11,
     "metadata": {},
     "output_type": "execute_result"
    }
   ],
   "source": [
    "c = np.random.rand(2, 3)\n",
    "c\n",
    "c.ndim"
   ]
  },
  {
   "cell_type": "code",
   "execution_count": 12,
   "metadata": {},
   "outputs": [
    {
     "data": {
      "text/plain": [
       "4"
      ]
     },
     "execution_count": 12,
     "metadata": {},
     "output_type": "execute_result"
    }
   ],
   "source": [
    "c = np.random.rand(2, 3, 4, 2)\n",
    "c\n",
    "c.ndim"
   ]
  },
  {
   "cell_type": "code",
   "execution_count": 13,
   "metadata": {},
   "outputs": [
    {
     "data": {
      "text/plain": [
       "'\\n[\\n    [\\n        [0, 1, 2, 3, 4], [5, 6, 7, 8, 9], [10, 11, 12, 13, 14], [15, 16, 17, 18, 19], [20, 21, 22, 23, 24]\\n    ],\\n    [\\n        [25, 26, 27, 28, 29], ...\\n    ],\\n    [\\n        [], [], [], [], []\\n    ],\\n    [\\n        [], [], [], [], []\\n    ]\\n]\\n'"
      ]
     },
     "execution_count": 13,
     "metadata": {},
     "output_type": "execute_result"
    }
   ],
   "source": [
    "# Reshape\n",
    "\n",
    "d = np.arange(100)\n",
    "d # 1 array -> 0 ... 99\n",
    "\n",
    "d = d.reshape(4, 25)\n",
    "d # 4 arrays\n",
    "\"\"\"\n",
    "0 ... 24\n",
    "25 ... 49\n",
    "50 ... 74\n",
    "74 ... 99\n",
    "\"\"\"\n",
    "\n",
    "d = d.reshape(4, 5, 5)\n",
    "d # 4 arrays com 5 conjuntos de 5 elementos\n",
    "\"\"\"\n",
    "[\n",
    "    [\n",
    "        [0, 1, 2, 3, 4], [5, 6, 7, 8, 9], [10, 11, 12, 13, 14], [15, 16, 17, 18, 19], [20, 21, 22, 23, 24]\n",
    "    ],\n",
    "    [\n",
    "        [25, 26, 27, 28, 29], ...\n",
    "    ],\n",
    "    [\n",
    "        [], [], [], [], []\n",
    "    ],\n",
    "    [\n",
    "        [], [], [], [], []\n",
    "    ]\n",
    "]\n",
    "\"\"\""
   ]
  },
  {
   "cell_type": "code",
   "execution_count": 14,
   "metadata": {},
   "outputs": [
    {
     "data": {
      "text/plain": [
       "array([1., 1., 1., 1.])"
      ]
     },
     "execution_count": 14,
     "metadata": {},
     "output_type": "execute_result"
    }
   ],
   "source": [
    "a = np.zeros(2)\n",
    "a # 0, 0\n",
    "\n",
    "b = np.ones(4)\n",
    "b # 1, 1, 1, 1"
   ]
  },
  {
   "cell_type": "markdown",
   "metadata": {},
   "source": [
    "# Slicing"
   ]
  },
  {
   "cell_type": "code",
   "execution_count": 15,
   "metadata": {},
   "outputs": [
    {
     "data": {
      "text/plain": [
       "array([  1,   2,   3,   4,   5,   6,   7,   8,   9,  10,  11,  12,  13,\n",
       "        14,  15,  16,  17,  18,  19,  20,  21,  22,  23,  24,  25,  31,\n",
       "        27,  28,  29,  30,  31,  32,  33,  34,  35,  36,  37,  38,  39,\n",
       "        40,  41,  42,  43,  44,  45,  46,  47,  48,  49,  50,  51,  52,\n",
       "        53,  54,  55,  56,  57,  58,  59,  60,  61,  62,  63,  64,  65,\n",
       "        66,  67,  68,  69,  70,  71,  72,  73,  74,  75,  76,  77,  78,\n",
       "        79,  80,  81,  82,  83,  84,  85,  86,  87,  88,  89,  90,  91,\n",
       "        92,  93,  94,  95,  96,  97,  98,  99, 100])"
      ]
     },
     "execution_count": 15,
     "metadata": {},
     "output_type": "execute_result"
    }
   ],
   "source": [
    "# Não é cópia\n",
    "\n",
    "a = np.arange(1, 101)\n",
    "b = a[25:55]\n",
    "b[0] = 31\n",
    "a # O elemento 0 em b (26) foi alterado para 31, o mesmo acontece com a, onde localizava o 26, agora é 31"
   ]
  },
  {
   "cell_type": "code",
   "execution_count": 16,
   "metadata": {},
   "outputs": [
    {
     "data": {
      "text/plain": [
       "array([  1,   2,   3,   4,   5,   6,   7,   8,   9,  10,  11,  12,  13,\n",
       "        14,  15,  16,  17,  18,  19,  20,  21,  22,  23,  24,  25,  26,\n",
       "        27,  28,  29,  30,  31,  32,  33,  34,  35,  36,  37,  38,  39,\n",
       "        40,  41,  42,  43,  44,  45,  46,  47,  48,  49,  50,  51,  52,\n",
       "        53,  54,  55,  56,  57,  58,  59,  60,  61,  62,  63,  64,  65,\n",
       "        66,  67,  68,  69,  70,  71,  72,  73,  74,  75,  76,  77,  78,\n",
       "        79,  80,  81,  82,  83,  84,  85,  86,  87,  88,  89,  90,  91,\n",
       "        92,  93,  94,  95,  96,  97,  98,  99, 100])"
      ]
     },
     "execution_count": 16,
     "metadata": {},
     "output_type": "execute_result"
    }
   ],
   "source": [
    "# Cópia\n",
    "\n",
    "a = np.arange(1, 101)\n",
    "b = a[25:55].copy()\n",
    "b[0] = 31\n",
    "a # O elemento 0 em b (26) foi alterado para 31, o que não acontece com a, por b ser uma cópia. \n",
    "# Onde localizava 26 em a, permanece 26"
   ]
  },
  {
   "cell_type": "code",
   "execution_count": 17,
   "metadata": {},
   "outputs": [
    {
     "data": {
      "text/plain": [
       "array([100,  95,  90,  85,  80,  75,  70,  65,  60,  55,  50,  45,  40,\n",
       "        35,  30,  25,  20,  15,  10,   5])"
      ]
     },
     "execution_count": 17,
     "metadata": {},
     "output_type": "execute_result"
    }
   ],
   "source": [
    "a[::5] # 5 em 5 a partir de 1 ... 96\n",
    "a[::-5] # -5 em -5 a partir de 100 ... 5"
   ]
  },
  {
   "cell_type": "code",
   "execution_count": 18,
   "metadata": {},
   "outputs": [
    {
     "name": "stdout",
     "output_type": "stream",
     "text": [
      "[[ 8.  3.  5. 10.  2.]\n",
      " [ 9.  0.  5.  2.  1.]\n",
      " [ 9.  3.  1.  1.  2.]\n",
      " [ 8.  7.  2.  6.  4.]\n",
      " [ 9. 10.  1.  2.  2.]]\n"
     ]
    },
    {
     "data": {
      "text/plain": [
       "array([[0., 5., 2.],\n",
       "       [3., 1., 1.],\n",
       "       [7., 2., 6.]])"
      ]
     },
     "execution_count": 18,
     "metadata": {},
     "output_type": "execute_result"
    }
   ],
   "source": [
    "a = np.round(10 * np.random.rand(5,5))\n",
    "print(a)\n",
    "a[2, 2] # Meio \n",
    "\n",
    "a[2,:] # Terceira linha inteira\n",
    "a[:,3] # Quarta coluna inteira\n",
    "\n",
    "a[1:4, 1:4] # Todos valores que não estão na borda"
   ]
  },
  {
   "cell_type": "markdown",
   "metadata": {},
   "source": [
    "# Sorting"
   ]
  },
  {
   "cell_type": "code",
   "execution_count": 19,
   "metadata": {},
   "outputs": [
    {
     "name": "stdout",
     "output_type": "stream",
     "text": [
      "Array original\n",
      "[[ 8.  4.  0.  4.  5.]\n",
      " [ 0. 10.  8.  3.  0.]\n",
      " [ 7. 10.  7.  3.  7.]\n",
      " [ 3.  9.  5.  8.  4.]\n",
      " [ 6.  3.  8.  2.  7.]]\n",
      "      \n",
      "Ordenamento - Coluna\n",
      "[[ 0.  3.  0.  2.  0.]\n",
      " [ 3.  4.  5.  3.  4.]\n",
      " [ 6.  9.  7.  3.  5.]\n",
      " [ 7. 10.  8.  4.  7.]\n",
      " [ 8. 10.  8.  8.  7.]]\n",
      "      \n",
      "Ordenamento - Linha\n",
      "[[ 0.  0.  0.  2.  3.]\n",
      " [ 3.  3.  4.  4.  5.]\n",
      " [ 3.  5.  6.  7.  9.]\n",
      " [ 4.  7.  7.  8. 10.]\n",
      " [ 7.  8.  8.  8. 10.]]\n",
      "      \n"
     ]
    }
   ],
   "source": [
    "a = np.round(10 * np.random.rand(5,5))\n",
    "print(f\"\"\"Array original\n",
    "{a}\n",
    "      \"\"\")\n",
    "\n",
    "# Ordenar cada coluna individualmente\n",
    "a.sort(axis=0)\n",
    "print(f\"\"\"Ordenamento - Coluna\n",
    "{a}\n",
    "      \"\"\")\n",
    "# Ordernar as linhas\n",
    "a.sort(axis=1)\n",
    "print(f\"\"\"Ordenamento - Linha\n",
    "{a}\n",
    "      \"\"\")\n"
   ]
  },
  {
   "cell_type": "markdown",
   "metadata": {},
   "source": [
    "# Indexing"
   ]
  },
  {
   "cell_type": "code",
   "execution_count": 20,
   "metadata": {},
   "outputs": [
    {
     "name": "stdout",
     "output_type": "stream",
     "text": [
      "[  0   1   2   3   4   5   6   7 192   9  10  11  12  13  14  15  16  17\n",
      "  18  19  20  21  22  23  24  25  26  27  28  29  30  31  32  33  34  35\n",
      "  36  37  38  39  40  41  42  43  44  45  46  47  48  49  50  51  52  53\n",
      "  54  55  56  57  58  59  60  61  62  63  64  65  66  67  68  69  70  71\n",
      "  72  73  74  75  76  77  78  79  80  81  82  83  84  85  86  87  88  89\n",
      "  90  91  92  93  94  95  96  97  98  99]\n",
      "8\n"
     ]
    },
    {
     "data": {
      "text/plain": [
       "array([ 0,  1,  2,  3,  4,  5,  6,  7,  8,  9, 10, 11, 12, 13, 14, 15, 16,\n",
       "       17, 18, 19, 20, 21, 22, 23, 24, 25, 26, 27, 28, 29, 30, 31, 32, 33,\n",
       "       34, 35, 36, 37, 38, 39, 40, 41, 42, 43, 44, 45, 46, 47, 48, 49, 50,\n",
       "       51, 52, 53, 54, 55, 56, 57, 58, 59, 60, 61, 62, 63, 64, 65, 66, 67,\n",
       "       68, 69, 70, 71, 72, 73, 74, 75, 76, 77, 78, 79, 80, 81, 82, 83, 84,\n",
       "       85, 86, 87, 88, 89, 90, 91, 92, 93, 94, 95, 96, 97, 98, 99])"
      ]
     },
     "execution_count": 20,
     "metadata": {},
     "output_type": "execute_result"
    }
   ],
   "source": [
    "# Index\n",
    "\n",
    "# Alterando um índice aleatório com um valor aleatório\n",
    "a = np.arange(100)\n",
    "random_number_idx, random_number_value = np.random.randint(a.size), (np.random.randint(a.size) + 100)\n",
    "a[random_number_idx] = random_number_value\n",
    "\n",
    "\"\"\"\n",
    "Bônus\n",
    "b = True para o valor igual ao RNV\n",
    "Todos valores = 0, exceto o RNV\n",
    "b = (a == random_number_value) * np.arange(a.size)\n",
    "\"\"\"\n",
    "\n",
    "# Encontrando o index de RNV\n",
    "idx = np.argwhere(a == random_number_value)[0][0]\n",
    "print(a)\n",
    "print(idx)\n",
    "\n",
    "# Alterando para o valor na ordem\n",
    "a[idx] = idx\n",
    "a"
   ]
  },
  {
   "cell_type": "code",
   "execution_count": 21,
   "metadata": {},
   "outputs": [
    {
     "name": "stdout",
     "output_type": "stream",
     "text": [
      "[1 5 7]\n",
      "[ 0  1  2  3  4  5  6  7  8  9 10 11 12 13 14 15 16 17 18 19 20 21 22 23\n",
      " 24 25 26 27 28 29 30 31 32 33 34 35 36 37 38 39 40 41 42 43 44 45 46 47\n",
      " 48 49 50 51 52 53 54 55 56 57 58 59 60 61 62 63 64 65 66 67 68 69 70 71\n",
      " 72 73 74 75 76 77 78 79 80 81 82 83 84 85 86 87 88 89 90 91 92 93 94 95\n",
      " 96 97 98 99]\n"
     ]
    }
   ],
   "source": [
    "a = np.arange(100)\n",
    "b = a[[3, 5, 7]] # Cópia\n",
    "\n",
    "b[0] = 1\n",
    "\n",
    "print(b)\n",
    "print(a) # A não é alterado"
   ]
  },
  {
   "cell_type": "code",
   "execution_count": 22,
   "metadata": {},
   "outputs": [
    {
     "data": {
      "text/plain": [
       "array([21, 22, 23, 24, 25, 26, 27, 28, 29, 30, 31, 32, 33, 34, 35, 36, 37,\n",
       "       38, 39])"
      ]
     },
     "execution_count": 22,
     "metadata": {},
     "output_type": "execute_result"
    }
   ],
   "source": [
    "\"\"\"\n",
    "& -> para arrays\n",
    "| -> para arrays\n",
    "~ -> para arrays\n",
    "\"\"\"\n",
    "\n",
    "b = a[a < 40] # B = todos elementos menores que 40\n",
    "b # 0 ... 39\n",
    "\n",
    "b = a[(a < 40) & (a > 20)] # B = todos elementos menos que 40 e maiores que 20\n",
    "b # 21 ... 39\n"
   ]
  },
  {
   "cell_type": "markdown",
   "metadata": {},
   "source": [
    "# Broadcasting"
   ]
  },
  {
   "cell_type": "code",
   "execution_count": 23,
   "metadata": {},
   "outputs": [
    {
     "data": {
      "text/plain": [
       "array([[ 3, 12],\n",
       "       [ 6, 15]])"
      ]
     },
     "execution_count": 23,
     "metadata": {},
     "output_type": "execute_result"
    }
   ],
   "source": [
    "a = np.array([[1, 2], [3, 4]])\n",
    "a += 5 # Todos elementos são somados com 5\n",
    "\"\"\"\n",
    "[[6, 7],\n",
    "[8, 9]]\n",
    "\"\"\"\n",
    "a \n",
    "\n",
    "b = np.array([[2,3], [5, 9]])\n",
    "b += np.array([1, 3]) # 2 e 5 são somados com 1, 3 e 9 são somados com 12\n",
    "\"\"\"\n",
    "[[3, 6],\n",
    "[6, 12]]\n",
    "\"\"\"\n",
    "b\n",
    "\n",
    "c = np.array([[1, 4], [2, 5]])\n",
    "c *= np.array(3) # Todos elementos são multiplicados por 3\n",
    "\"\"\"\n",
    "[[3, 12],\n",
    "[6, 15]]\n",
    "\"\"\"\n",
    "c\n",
    "\n",
    "# E assim por diante...\n"
   ]
  }
 ],
 "metadata": {
  "interpreter": {
   "hash": "b2a6f09527545e370935e82da67d9200a6ba8ae5f29d2a729dc4524a539d679f"
  },
  "kernelspec": {
   "display_name": "Python 3",
   "language": "python",
   "name": "python3"
  },
  "language_info": {
   "codemirror_mode": {
    "name": "ipython",
    "version": 3
   },
   "file_extension": ".py",
   "mimetype": "text/x-python",
   "name": "python",
   "nbconvert_exporter": "python",
   "pygments_lexer": "ipython3",
   "version": "3.7.3"
  }
 },
 "nbformat": 4,
 "nbformat_minor": 2
}
